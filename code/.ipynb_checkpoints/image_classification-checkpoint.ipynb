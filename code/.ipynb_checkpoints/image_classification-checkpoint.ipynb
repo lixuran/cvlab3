{
 "cells": [
  {
   "cell_type": "markdown",
   "metadata": {},
   "source": [
    "# Image Classification with PyTorch"
   ]
  },
  {
   "cell_type": "markdown",
   "metadata": {},
   "source": [
    "## Data loading\n"
   ]
  },
  {
   "cell_type": "code",
   "execution_count": 1,
   "metadata": {},
   "outputs": [
    {
     "name": "stderr",
     "output_type": "stream",
     "text": [
      "/home/lixuran/anaconda3/envs/dl4cv/lib/python3.9/site-packages/tqdm/auto.py:22: TqdmWarning: IProgress not found. Please update jupyter and ipywidgets. See https://ipywidgets.readthedocs.io/en/stable/user_install.html\n",
      "  from .autonotebook import tqdm as notebook_tqdm\n"
     ]
    }
   ],
   "source": [
    "import numpy as np\n",
    "import matplotlib.pyplot as plt\n",
    "\n",
    "import torch\n",
    "import torch.nn as nn\n",
    "import torch.nn.functional as F\n",
    "import torch.optim as optim\n",
    "from torch.utils.data import DataLoader\n",
    "import torchvision\n",
    "from torchvision import datasets, transforms"
   ]
  },
  {
   "cell_type": "code",
   "execution_count": 2,
   "metadata": {},
   "outputs": [
    {
     "name": "stdout",
     "output_type": "stream",
     "text": [
      "Downloading http://yann.lecun.com/exdb/mnist/train-images-idx3-ubyte.gz\n",
      "Downloading http://yann.lecun.com/exdb/mnist/train-images-idx3-ubyte.gz to data/MNIST/raw/train-images-idx3-ubyte.gz\n"
     ]
    },
    {
     "name": "stderr",
     "output_type": "stream",
     "text": [
      "9913344it [00:00, 11341999.78it/s]                                              \n"
     ]
    },
    {
     "name": "stdout",
     "output_type": "stream",
     "text": [
      "Extracting data/MNIST/raw/train-images-idx3-ubyte.gz to data/MNIST/raw\n",
      "\n",
      "Downloading http://yann.lecun.com/exdb/mnist/train-labels-idx1-ubyte.gz\n",
      "Downloading http://yann.lecun.com/exdb/mnist/train-labels-idx1-ubyte.gz to data/MNIST/raw/train-labels-idx1-ubyte.gz\n"
     ]
    },
    {
     "name": "stderr",
     "output_type": "stream",
     "text": [
      "29696it [00:00, 9146952.46it/s]                                                 \n"
     ]
    },
    {
     "name": "stdout",
     "output_type": "stream",
     "text": [
      "Extracting data/MNIST/raw/train-labels-idx1-ubyte.gz to data/MNIST/raw\n",
      "\n",
      "Downloading http://yann.lecun.com/exdb/mnist/t10k-images-idx3-ubyte.gz\n",
      "Downloading http://yann.lecun.com/exdb/mnist/t10k-images-idx3-ubyte.gz to data/MNIST/raw/t10k-images-idx3-ubyte.gz\n"
     ]
    },
    {
     "name": "stderr",
     "output_type": "stream",
     "text": [
      "1649664it [00:00, 13562522.91it/s]                                              \n"
     ]
    },
    {
     "name": "stdout",
     "output_type": "stream",
     "text": [
      "Extracting data/MNIST/raw/t10k-images-idx3-ubyte.gz to data/MNIST/raw\n",
      "\n",
      "Downloading http://yann.lecun.com/exdb/mnist/t10k-labels-idx1-ubyte.gz\n",
      "Downloading http://yann.lecun.com/exdb/mnist/t10k-labels-idx1-ubyte.gz to data/MNIST/raw/t10k-labels-idx1-ubyte.gz\n"
     ]
    },
    {
     "name": "stderr",
     "output_type": "stream",
     "text": [
      "5120it [00:00, 2394073.19it/s]                                                  \n"
     ]
    },
    {
     "name": "stdout",
     "output_type": "stream",
     "text": [
      "Extracting data/MNIST/raw/t10k-labels-idx1-ubyte.gz to data/MNIST/raw\n",
      "\n"
     ]
    },
    {
     "name": "stderr",
     "output_type": "stream",
     "text": [
      "/home/lixuran/anaconda3/envs/dl4cv/lib/python3.9/site-packages/torchvision/datasets/mnist.py:498: UserWarning: The given NumPy array is not writeable, and PyTorch does not support non-writeable tensors. This means you can write to the underlying (supposedly non-writeable) NumPy array using the tensor. You may want to copy the array to protect its data or make it writeable before converting it to a tensor. This type of warning will be suppressed for the rest of this program. (Triggered internally at  /opt/conda/conda-bld/pytorch_1631630778054/work/torch/csrc/utils/tensor_numpy.cpp:180.)\n",
      "  return torch.from_numpy(parsed.astype(m[2], copy=False)).view(*s)\n"
     ]
    }
   ],
   "source": [
    "# torchvision contains convinience functions for popular datasets\n",
    "ds_train = datasets.MNIST('data', train=True, download=True)"
   ]
  },
  {
   "cell_type": "markdown",
   "metadata": {},
   "source": [
    "Each sample is a 28x28 image"
   ]
  },
  {
   "cell_type": "code",
   "execution_count": 5,
   "metadata": {},
   "outputs": [
    {
     "name": "stdout",
     "output_type": "stream",
     "text": [
      "(<PIL.Image.Image image mode=L size=28x28 at 0x7F4CA4ADC670>, 5)\n"
     ]
    },
    {
     "data": {
      "image/png": "[encoded data removed]",
      "text/plain": [
       "<PIL.Image.Image image mode=L size=120x120>"
      ]
     },
     "execution_count": 5,
     "metadata": {},
     "output_type": "execute_result"
    }
   ],
   "source": [
    "# if we index this dataset, we get a single data point: a PIL image and an Integer\n",
    "print(ds_train[0])\n",
    "ds_train[0][0].resize((120,120))"
   ]
  },
  {
   "cell_type": "markdown",
   "metadata": {},
   "source": [
    "Let's transform the data to something that our Pytorch models will understand\n",
    "for this purpose, we can supply a transform function to the datase"
   ]
  },
  {
   "cell_type": "code",
   "execution_count": 6,
   "metadata": {},
   "outputs": [],
   "source": [
    "transform = transforms.Compose([\n",
    "    transforms.ToTensor(),\n",
    "])\n",
    "ds_train = datasets.MNIST('data', train=True, download=True, transform=transform)"
   ]
  },
  {
   "cell_type": "markdown",
   "metadata": {},
   "source": [
    "The image is now a `torch.Tensor`"
   ]
  },
  {
   "cell_type": "code",
   "execution_count": 7,
   "metadata": {},
   "outputs": [
    {
     "data": {
      "text/plain": [
       "torch.Tensor"
      ]
     },
     "execution_count": 7,
     "metadata": {},
     "output_type": "execute_result"
    }
   ],
   "source": [
    "type(ds_train[0][0])"
   ]
  },
  {
   "cell_type": "markdown",
   "metadata": {},
   "source": [
    "The normalization is something you learned about in the lecture. Normalizing with $\\mu=0, \\sigma=1$ corresponds to no normalization. Let's compute the proper normalization constants!"
   ]
  },
  {
   "cell_type": "code",
   "execution_count": 8,
   "metadata": {},
   "outputs": [],
   "source": [
    "# lets get only the images \n",
    "ims_train = ds_train.data\n",
    "ims_train = ims_train.float() / 255."
   ]
  },
  {
   "cell_type": "code",
   "execution_count": 9,
   "metadata": {},
   "outputs": [],
   "source": [
    "#########################################################################\n",
    "# TODO: calculate the mean and std of MNIST images\n",
    "# hint: to look for operations on pytorch tensor, refer to the official PyTorch docs \n",
    "# https://pytorch.org/docs/stable/\n",
    "#########################################################################\n",
    "mu = torch.mean(ims_train)\n",
    "std =torch.std(ims_train)"
   ]
  },
  {
   "cell_type": "markdown",
   "metadata": {},
   "source": [
    "We normalize the data as below."
   ]
  },
  {
   "cell_type": "code",
   "execution_count": 10,
   "metadata": {},
   "outputs": [],
   "source": [
    "transform = transforms.Compose([\n",
    "    transforms.ToTensor(),\n",
    "    transforms.Normalize(mu, std)\n",
    "])\n",
    "ds_train = datasets.MNIST('data', train=True, download=True, transform=transform)\n",
    "ds_test = datasets.MNIST('data', train=False, download=True, transform=transform)"
   ]
  },
  {
   "cell_type": "code",
   "execution_count": 11,
   "metadata": {},
   "outputs": [
    {
     "data": {
      "text/plain": [
       "(tensor(-0.4241), tensor(2.8215))"
      ]
     },
     "execution_count": 11,
     "metadata": {},
     "output_type": "execute_result"
    }
   ],
   "source": [
    "ds_train[0][0].min(), ds_train[0][0].max()"
   ]
  },
  {
   "cell_type": "markdown",
   "metadata": {},
   "source": [
    "Next, we want to receive mini-batches, not only single data points.\n",
    "We use PyTorch's DataLoader class. Build a dataloader with a batch size of 64 and 4 workers (number of subprocess that peform the dataloading). Important: you need to shuffle the training data, not the test data.\n",
    "\n",
    "**NOTE**: if you encounter some unexpected errors in data loading, try setting `NUM_WORKERS = 0`"
   ]
  },
  {
   "cell_type": "code",
   "execution_count": 12,
   "metadata": {},
   "outputs": [],
   "source": [
    "BATCH_SIZE = 64\n",
    "NUM_WORKERS = 4\n",
    "#########################################################################\n",
    "# TODO: Build a dataloader for both train and test data.\n",
    "#########################################################################\n",
    "dl_train = DataLoader(ds_train,batch_size =64 ,num_workers=4)\n",
    "dl_test = DataLoader(ds_test,batch_size =64 ,num_workers=4)"
   ]
  },
  {
   "cell_type": "markdown",
   "metadata": {},
   "source": [
    "## MLP in Pytorch\n",
    "\n",
    "Ok, the dataloading works. Let's build our model, PyTorch makes this very easy. We will build replicate the model from our last exercises. However, now, we add another variable called `nLayer` that indicates how many linear layers that in your network. Please adapt your code from last exercise accordingly to allow different number of layers."
   ]
  },
  {
   "cell_type": "code",
   "execution_count": 15,
   "metadata": {},
   "outputs": [],
   "source": [
    "# These are the parameters to be used\n",
    "nInput = 784\n",
    "nOutput = 10\n",
    "nLayer = 2\n",
    "nHidden = 16\n",
    "act_fn = nn.ReLU()"
   ]
  },
  {
   "cell_type": "code",
   "execution_count": 29,
   "metadata": {},
   "outputs": [],
   "source": [
    "#########################################################################\n",
    "# TODO: Implement the __init__ of the MLP class. \n",
    "# insert the activation after every linear layer. Important: the number of \n",
    "# hidden layers should be variable!\n",
    "#########################################################################\n",
    "\n",
    "class MLP(nn.Module):\n",
    "    def __init__(self, nInput, nOutput, nLayer, nHidden, act_fn):\n",
    "        super(MLP, self).__init__()\n",
    "        layers = [] \n",
    "        \n",
    "        ##### implement this part #####\n",
    "        layers.append(nn.Linear(nInput,nHidden))\n",
    "        layers.append(act_fn)\n",
    "        for i in range(nLayer-2):\n",
    "            layers.append(nn.Linear(nHidden,nHidden))\n",
    "            layers.append(act_fn)\n",
    "        layers.append(nn.Linear(nHidden,nOutput))\n",
    "        #layers.append(nn.Softmax(dim=1))\n",
    "        ###############################\n",
    "        \n",
    "        self.model = nn.Sequential(*layers)\n",
    "\n",
    "    def forward(self, x):\n",
    "        x = torch.flatten(x, 1)\n",
    "        return self.model(x)"
   ]
  },
  {
   "cell_type": "code",
   "execution_count": 16,
   "metadata": {
    "scrolled": true
   },
   "outputs": [
    {
     "data": {
      "text/plain": [
       "torch.Size([1, 10])"
      ]
     },
     "execution_count": 16,
     "metadata": {},
     "output_type": "execute_result"
    }
   ],
   "source": [
    "# Let's test if the forward pass works\n",
    "# this should print torch.Size([1, 10])\n",
    "t = torch.randn(1,1,28,28)\n",
    "mlp = MLP(nInput, nOutput, nLayer, nHidden, act_fn)\n",
    "mlp(t).shape"
   ]
  },
  {
   "cell_type": "code",
   "execution_count": 17,
   "metadata": {},
   "outputs": [
    {
     "data": {
      "text/plain": [
       "MLP(\n",
       "  (model): Sequential(\n",
       "    (0): Linear(in_features=784, out_features=16, bias=True)\n",
       "    (1): ReLU()\n",
       "    (2): Linear(in_features=16, out_features=16, bias=True)\n",
       "    (3): ReLU()\n",
       "    (4): Linear(in_features=16, out_features=16, bias=True)\n",
       "    (5): ReLU()\n",
       "    (6): Linear(in_features=16, out_features=10, bias=True)\n",
       "    (7): Softmax(dim=1)\n",
       "  )\n",
       ")"
      ]
     },
     "execution_count": 17,
     "metadata": {},
     "output_type": "execute_result"
    }
   ],
   "source": [
    "mlp"
   ]
  },
  {
   "cell_type": "markdown",
   "metadata": {},
   "source": [
    "We already implemented the test function for you"
   ]
  },
  {
   "cell_type": "code",
   "execution_count": 18,
   "metadata": {},
   "outputs": [],
   "source": [
    "def test(model, dl_test, device='cpu'):\n",
    "    model.eval()\n",
    "    test_loss = 0\n",
    "    correct = 0\n",
    "    with torch.no_grad():\n",
    "        for data, target in dl_test:\n",
    "            data, target = data.to(device), target.to(device)\n",
    "            output = model(data)\n",
    "            test_loss += F.cross_entropy(output, target, reduction='sum').item()  # sum up batch loss\n",
    "            pred = output.argmax(dim=1, keepdim=True)  # get the index of the max log-probability\n",
    "            correct += pred.eq(target.view_as(pred)).sum().item()\n",
    "\n",
    "    test_loss /= len(dl_test.dataset)\n",
    "\n",
    "    print('\\nTest set: Average loss: {:.4f}, Accuracy: {}/{} ({:.3f}%)\\n'.format(\n",
    "        test_loss, correct, len(dl_test.dataset),\n",
    "        100. * correct / len(dl_test.dataset)))"
   ]
  },
  {
   "cell_type": "markdown",
   "metadata": {},
   "source": [
    "Now you only need to implement the training and you are good to go"
   ]
  },
  {
   "cell_type": "code",
   "execution_count": 24,
   "metadata": {},
   "outputs": [],
   "source": [
    "#########################################################################\n",
    "# TODO: Implement the missing part of the training function. As a loss function we want to use cross entropy\n",
    "# It can be called with F.cross_entropy().\n",
    "# Hint: Pass through the model -> Backpropagate gradients -> Take gradient step\n",
    "#########################################################################\n",
    "\n",
    "def train(model, dl_train, optimizer, epoch, log_interval=100, device='cpu'):\n",
    "    model.train()\n",
    "    correct = 0\n",
    "    for batch_idx, (data, target) in enumerate(dl_train):\n",
    "        data, target = data.to(device), target.to(device)\n",
    "        \n",
    "        # first we need to zero the gradient, otherwise PyTorch would accumulate them\n",
    "        optimizer.zero_grad()         \n",
    "        \n",
    "        ##### implement this part #####\n",
    "        output = model(data)\n",
    "        loss = F.cross_entropy(output,target,reduction='mean')\n",
    "        \n",
    "        loss.backward()\n",
    "        optimizer.step()        \n",
    "        ###############################\n",
    "\n",
    "        # stats\n",
    "        pred = output.argmax(dim=1, keepdim=True)  # get the index of the max log-probability\n",
    "        correct += pred.eq(target.view_as(pred)).sum().item()\n",
    "\n",
    "        if batch_idx % log_interval == 0:\n",
    "            print('Train Epoch: {} [{}/{} ({:.0f}%)]\\tLoss: {:.6f}'.format(\n",
    "                epoch, batch_idx * len(data), len(dl_train.dataset),\n",
    "                100. * batch_idx / len(dl_train), loss.item()))\n",
    "\n",
    "    print('\\nTrain set: Average loss: {:.4f}, Accuracy: {}/{} ({:.1f}%)\\n'.format(\n",
    "        loss, correct, len(dl_train.dataset),\n",
    "        100. * correct / len(dl_train.dataset)))"
   ]
  },
  {
   "cell_type": "markdown",
   "metadata": {},
   "source": [
    "Ok, the setup is almost done. The onoly missing part is the optimizer. We are going to use Adam."
   ]
  },
  {
   "cell_type": "code",
   "execution_count": 30,
   "metadata": {},
   "outputs": [],
   "source": [
    "# reinitialize the mlp, so we can play with parameters right here\n",
    "mlp = MLP(nInput, nOutput, nLayer, nHidden, act_fn)\n",
    "optimizer = optim.Adam(mlp.parameters())"
   ]
  },
  {
   "cell_type": "code",
   "execution_count": 31,
   "metadata": {
    "scrolled": true
   },
   "outputs": [
    {
     "name": "stdout",
     "output_type": "stream",
     "text": [
      "Train Epoch: 1 [0/60000 (0%)]\tLoss: 2.363048\n",
      "Train Epoch: 1 [6400/60000 (11%)]\tLoss: 0.528742\n",
      "Train Epoch: 1 [12800/60000 (21%)]\tLoss: 0.346408\n",
      "Train Epoch: 1 [19200/60000 (32%)]\tLoss: 0.429140\n",
      "Train Epoch: 1 [25600/60000 (43%)]\tLoss: 0.269931\n",
      "Train Epoch: 1 [32000/60000 (53%)]\tLoss: 0.394019\n",
      "Train Epoch: 1 [38400/60000 (64%)]\tLoss: 0.216530\n",
      "Train Epoch: 1 [44800/60000 (75%)]\tLoss: 0.387159\n",
      "Train Epoch: 1 [51200/60000 (85%)]\tLoss: 0.380470\n",
      "Train Epoch: 1 [57600/60000 (96%)]\tLoss: 0.367629\n",
      "\n",
      "Train set: Average loss: 0.1782, Accuracy: 52554/60000 (87.6%)\n",
      "\n",
      "\n",
      "Test set: Average loss: 0.2708, Accuracy: 9186/10000 (91.860%)\n",
      "\n",
      "Train Epoch: 2 [0/60000 (0%)]\tLoss: 0.167513\n",
      "Train Epoch: 2 [6400/60000 (11%)]\tLoss: 0.256240\n",
      "Train Epoch: 2 [12800/60000 (21%)]\tLoss: 0.158838\n",
      "Train Epoch: 2 [19200/60000 (32%)]\tLoss: 0.285868\n",
      "Train Epoch: 2 [25600/60000 (43%)]\tLoss: 0.220080\n",
      "Train Epoch: 2 [32000/60000 (53%)]\tLoss: 0.364114\n",
      "Train Epoch: 2 [38400/60000 (64%)]\tLoss: 0.157497\n",
      "Train Epoch: 2 [44800/60000 (75%)]\tLoss: 0.338371\n",
      "Train Epoch: 2 [51200/60000 (85%)]\tLoss: 0.289758\n",
      "Train Epoch: 2 [57600/60000 (96%)]\tLoss: 0.325445\n",
      "\n",
      "Train set: Average loss: 0.1457, Accuracy: 55576/60000 (92.6%)\n",
      "\n",
      "\n",
      "Test set: Average loss: 0.2310, Accuracy: 9314/10000 (93.140%)\n",
      "\n",
      "Train Epoch: 3 [0/60000 (0%)]\tLoss: 0.131562\n",
      "Train Epoch: 3 [6400/60000 (11%)]\tLoss: 0.241204\n",
      "Train Epoch: 3 [12800/60000 (21%)]\tLoss: 0.135037\n",
      "Train Epoch: 3 [19200/60000 (32%)]\tLoss: 0.287556\n",
      "Train Epoch: 3 [25600/60000 (43%)]\tLoss: 0.225208\n",
      "Train Epoch: 3 [32000/60000 (53%)]\tLoss: 0.323981\n",
      "Train Epoch: 3 [38400/60000 (64%)]\tLoss: 0.119454\n",
      "Train Epoch: 3 [44800/60000 (75%)]\tLoss: 0.301403\n",
      "Train Epoch: 3 [51200/60000 (85%)]\tLoss: 0.259516\n",
      "Train Epoch: 3 [57600/60000 (96%)]\tLoss: 0.288124\n",
      "\n",
      "Train set: Average loss: 0.1435, Accuracy: 56115/60000 (93.5%)\n",
      "\n",
      "\n",
      "Test set: Average loss: 0.2111, Accuracy: 9362/10000 (93.620%)\n",
      "\n",
      "Train Epoch: 4 [0/60000 (0%)]\tLoss: 0.125405\n",
      "Train Epoch: 4 [6400/60000 (11%)]\tLoss: 0.241120\n",
      "Train Epoch: 4 [12800/60000 (21%)]\tLoss: 0.127550\n",
      "Train Epoch: 4 [19200/60000 (32%)]\tLoss: 0.263704\n",
      "Train Epoch: 4 [25600/60000 (43%)]\tLoss: 0.217503\n",
      "Train Epoch: 4 [32000/60000 (53%)]\tLoss: 0.311490\n",
      "Train Epoch: 4 [38400/60000 (64%)]\tLoss: 0.097029\n",
      "Train Epoch: 4 [44800/60000 (75%)]\tLoss: 0.279159\n",
      "Train Epoch: 4 [51200/60000 (85%)]\tLoss: 0.242057\n",
      "Train Epoch: 4 [57600/60000 (96%)]\tLoss: 0.269474\n",
      "\n",
      "Train set: Average loss: 0.1529, Accuracy: 56562/60000 (94.3%)\n",
      "\n",
      "\n",
      "Test set: Average loss: 0.2028, Accuracy: 9390/10000 (93.900%)\n",
      "\n",
      "Train Epoch: 5 [0/60000 (0%)]\tLoss: 0.119506\n",
      "Train Epoch: 5 [6400/60000 (11%)]\tLoss: 0.220201\n",
      "Train Epoch: 5 [12800/60000 (21%)]\tLoss: 0.126804\n",
      "Train Epoch: 5 [19200/60000 (32%)]\tLoss: 0.250187\n",
      "Train Epoch: 5 [25600/60000 (43%)]\tLoss: 0.205700\n",
      "Train Epoch: 5 [32000/60000 (53%)]\tLoss: 0.301330\n",
      "Train Epoch: 5 [38400/60000 (64%)]\tLoss: 0.076332\n",
      "Train Epoch: 5 [44800/60000 (75%)]\tLoss: 0.248580\n",
      "Train Epoch: 5 [51200/60000 (85%)]\tLoss: 0.229868\n",
      "Train Epoch: 5 [57600/60000 (96%)]\tLoss: 0.256888\n",
      "\n",
      "Train set: Average loss: 0.1411, Accuracy: 56812/60000 (94.7%)\n",
      "\n",
      "\n",
      "Test set: Average loss: 0.1993, Accuracy: 9405/10000 (94.050%)\n",
      "\n",
      "Train Epoch: 6 [0/60000 (0%)]\tLoss: 0.114146\n",
      "Train Epoch: 6 [6400/60000 (11%)]\tLoss: 0.191332\n",
      "Train Epoch: 6 [12800/60000 (21%)]\tLoss: 0.120843\n",
      "Train Epoch: 6 [19200/60000 (32%)]\tLoss: 0.251342\n",
      "Train Epoch: 6 [25600/60000 (43%)]\tLoss: 0.199054\n",
      "Train Epoch: 6 [32000/60000 (53%)]\tLoss: 0.294968\n",
      "Train Epoch: 6 [38400/60000 (64%)]\tLoss: 0.065329\n",
      "Train Epoch: 6 [44800/60000 (75%)]\tLoss: 0.224211\n",
      "Train Epoch: 6 [51200/60000 (85%)]\tLoss: 0.223884\n",
      "Train Epoch: 6 [57600/60000 (96%)]\tLoss: 0.250509\n",
      "\n",
      "Train set: Average loss: 0.1324, Accuracy: 57007/60000 (95.0%)\n",
      "\n",
      "\n",
      "Test set: Average loss: 0.1948, Accuracy: 9434/10000 (94.340%)\n",
      "\n",
      "Train Epoch: 7 [0/60000 (0%)]\tLoss: 0.112763\n",
      "Train Epoch: 7 [6400/60000 (11%)]\tLoss: 0.166431\n",
      "Train Epoch: 7 [12800/60000 (21%)]\tLoss: 0.118496\n",
      "Train Epoch: 7 [19200/60000 (32%)]\tLoss: 0.255244\n",
      "Train Epoch: 7 [25600/60000 (43%)]\tLoss: 0.199955\n",
      "Train Epoch: 7 [32000/60000 (53%)]\tLoss: 0.300544\n",
      "Train Epoch: 7 [38400/60000 (64%)]\tLoss: 0.065678\n",
      "Train Epoch: 7 [44800/60000 (75%)]\tLoss: 0.194510\n",
      "Train Epoch: 7 [51200/60000 (85%)]\tLoss: 0.226548\n",
      "Train Epoch: 7 [57600/60000 (96%)]\tLoss: 0.249847\n",
      "\n",
      "Train set: Average loss: 0.1159, Accuracy: 57131/60000 (95.2%)\n",
      "\n",
      "\n",
      "Test set: Average loss: 0.1926, Accuracy: 9440/10000 (94.400%)\n",
      "\n",
      "Train Epoch: 8 [0/60000 (0%)]\tLoss: 0.112062\n",
      "Train Epoch: 8 [6400/60000 (11%)]\tLoss: 0.150060\n",
      "Train Epoch: 8 [12800/60000 (21%)]\tLoss: 0.113421\n",
      "Train Epoch: 8 [19200/60000 (32%)]\tLoss: 0.269156\n",
      "Train Epoch: 8 [25600/60000 (43%)]\tLoss: 0.193246\n",
      "Train Epoch: 8 [32000/60000 (53%)]\tLoss: 0.294361\n",
      "Train Epoch: 8 [38400/60000 (64%)]\tLoss: 0.066441\n",
      "Train Epoch: 8 [44800/60000 (75%)]\tLoss: 0.178511\n",
      "Train Epoch: 8 [51200/60000 (85%)]\tLoss: 0.232258\n",
      "Train Epoch: 8 [57600/60000 (96%)]\tLoss: 0.238642\n",
      "\n",
      "Train set: Average loss: 0.1144, Accuracy: 57212/60000 (95.4%)\n",
      "\n",
      "\n",
      "Test set: Average loss: 0.1901, Accuracy: 9454/10000 (94.540%)\n",
      "\n",
      "Train Epoch: 9 [0/60000 (0%)]\tLoss: 0.109176\n",
      "Train Epoch: 9 [6400/60000 (11%)]\tLoss: 0.136899\n",
      "Train Epoch: 9 [12800/60000 (21%)]\tLoss: 0.111948\n",
      "Train Epoch: 9 [19200/60000 (32%)]\tLoss: 0.274795\n",
      "Train Epoch: 9 [25600/60000 (43%)]\tLoss: 0.187395\n",
      "Train Epoch: 9 [32000/60000 (53%)]\tLoss: 0.282416\n",
      "Train Epoch: 9 [38400/60000 (64%)]\tLoss: 0.067935\n",
      "Train Epoch: 9 [44800/60000 (75%)]\tLoss: 0.169985\n",
      "Train Epoch: 9 [51200/60000 (85%)]\tLoss: 0.222690\n",
      "Train Epoch: 9 [57600/60000 (96%)]\tLoss: 0.228611\n",
      "\n",
      "Train set: Average loss: 0.0994, Accuracy: 57310/60000 (95.5%)\n",
      "\n",
      "\n",
      "Test set: Average loss: 0.1913, Accuracy: 9462/10000 (94.620%)\n",
      "\n",
      "Train Epoch: 10 [0/60000 (0%)]\tLoss: 0.110166\n",
      "Train Epoch: 10 [6400/60000 (11%)]\tLoss: 0.126922\n",
      "Train Epoch: 10 [12800/60000 (21%)]\tLoss: 0.110123\n",
      "Train Epoch: 10 [19200/60000 (32%)]\tLoss: 0.277341\n",
      "Train Epoch: 10 [25600/60000 (43%)]\tLoss: 0.182628\n",
      "Train Epoch: 10 [32000/60000 (53%)]\tLoss: 0.276013\n",
      "Train Epoch: 10 [38400/60000 (64%)]\tLoss: 0.077583\n",
      "Train Epoch: 10 [44800/60000 (75%)]\tLoss: 0.156293\n",
      "Train Epoch: 10 [51200/60000 (85%)]\tLoss: 0.209408\n",
      "Train Epoch: 10 [57600/60000 (96%)]\tLoss: 0.224456\n",
      "\n",
      "Train set: Average loss: 0.1010, Accuracy: 57389/60000 (95.6%)\n",
      "\n",
      "\n",
      "Test set: Average loss: 0.1919, Accuracy: 9460/10000 (94.600%)\n",
      "\n",
      "Training is finished.\n"
     ]
    }
   ],
   "source": [
    "epochs = 10\n",
    "for epoch in range(1, epochs + 1):\n",
    "    train(mlp, dl_train, optimizer, epoch, log_interval=100)\n",
    "    test(mlp, dl_test)\n",
    "\n",
    "print ('Training is finished.')"
   ]
  },
  {
   "cell_type": "markdown",
   "metadata": {},
   "source": [
    "After training, you should see test accuracies of > **94%** - By they way, here we report test accuracy, the last exercises reported test error. Accuracy is simply (1 - error). Both metrics are commonly reported, there is no clear preference in literature for one or the other."
   ]
  },
  {
   "cell_type": "markdown",
   "metadata": {},
   "source": [
    "Now, can you do some parameter tuning to boost the test accuracy to > **97%**?"
   ]
  },
  {
   "cell_type": "code",
   "execution_count": 33,
   "metadata": {},
   "outputs": [
    {
     "name": "stdout",
     "output_type": "stream",
     "text": [
      "Train Epoch: 1 [0/60000 (0%)]\tLoss: 2.307008\n",
      "Train Epoch: 1 [6400/60000 (11%)]\tLoss: 0.337460\n",
      "Train Epoch: 1 [12800/60000 (21%)]\tLoss: 0.316843\n",
      "Train Epoch: 1 [19200/60000 (32%)]\tLoss: 0.252482\n",
      "Train Epoch: 1 [25600/60000 (43%)]\tLoss: 0.181846\n",
      "Train Epoch: 1 [32000/60000 (53%)]\tLoss: 0.318856\n",
      "Train Epoch: 1 [38400/60000 (64%)]\tLoss: 0.158800\n",
      "Train Epoch: 1 [44800/60000 (75%)]\tLoss: 0.291626\n",
      "Train Epoch: 1 [51200/60000 (85%)]\tLoss: 0.327418\n",
      "Train Epoch: 1 [57600/60000 (96%)]\tLoss: 0.221427\n",
      "\n",
      "Train set: Average loss: 0.0533, Accuracy: 53786/60000 (89.6%)\n",
      "\n",
      "\n",
      "Test set: Average loss: 0.1842, Accuracy: 9411/10000 (94.110%)\n",
      "\n",
      "Train Epoch: 2 [0/60000 (0%)]\tLoss: 0.118546\n",
      "Train Epoch: 2 [6400/60000 (11%)]\tLoss: 0.156663\n",
      "Train Epoch: 2 [12800/60000 (21%)]\tLoss: 0.112490\n",
      "Train Epoch: 2 [19200/60000 (32%)]\tLoss: 0.155581\n",
      "Train Epoch: 2 [25600/60000 (43%)]\tLoss: 0.127036\n",
      "Train Epoch: 2 [32000/60000 (53%)]\tLoss: 0.147618\n",
      "Train Epoch: 2 [38400/60000 (64%)]\tLoss: 0.105267\n",
      "Train Epoch: 2 [44800/60000 (75%)]\tLoss: 0.209233\n",
      "Train Epoch: 2 [51200/60000 (85%)]\tLoss: 0.315293\n",
      "Train Epoch: 2 [57600/60000 (96%)]\tLoss: 0.178450\n",
      "\n",
      "Train set: Average loss: 0.0132, Accuracy: 57228/60000 (95.4%)\n",
      "\n",
      "\n",
      "Test set: Average loss: 0.1435, Accuracy: 9547/10000 (95.470%)\n",
      "\n",
      "Train Epoch: 3 [0/60000 (0%)]\tLoss: 0.051355\n",
      "Train Epoch: 3 [6400/60000 (11%)]\tLoss: 0.144017\n",
      "Train Epoch: 3 [12800/60000 (21%)]\tLoss: 0.068421\n",
      "Train Epoch: 3 [19200/60000 (32%)]\tLoss: 0.128560\n",
      "Train Epoch: 3 [25600/60000 (43%)]\tLoss: 0.054331\n",
      "Train Epoch: 3 [32000/60000 (53%)]\tLoss: 0.057542\n",
      "Train Epoch: 3 [38400/60000 (64%)]\tLoss: 0.075252\n",
      "Train Epoch: 3 [44800/60000 (75%)]\tLoss: 0.155043\n",
      "Train Epoch: 3 [51200/60000 (85%)]\tLoss: 0.255333\n",
      "Train Epoch: 3 [57600/60000 (96%)]\tLoss: 0.139771\n",
      "\n",
      "Train set: Average loss: 0.0108, Accuracy: 57975/60000 (96.6%)\n",
      "\n",
      "\n",
      "Test set: Average loss: 0.1119, Accuracy: 9656/10000 (96.560%)\n",
      "\n",
      "Train Epoch: 4 [0/60000 (0%)]\tLoss: 0.031913\n",
      "Train Epoch: 4 [6400/60000 (11%)]\tLoss: 0.129320\n",
      "Train Epoch: 4 [12800/60000 (21%)]\tLoss: 0.059614\n",
      "Train Epoch: 4 [19200/60000 (32%)]\tLoss: 0.114506\n",
      "Train Epoch: 4 [25600/60000 (43%)]\tLoss: 0.069909\n",
      "Train Epoch: 4 [32000/60000 (53%)]\tLoss: 0.045162\n",
      "Train Epoch: 4 [38400/60000 (64%)]\tLoss: 0.063549\n",
      "Train Epoch: 4 [44800/60000 (75%)]\tLoss: 0.163004\n",
      "Train Epoch: 4 [51200/60000 (85%)]\tLoss: 0.277436\n",
      "Train Epoch: 4 [57600/60000 (96%)]\tLoss: 0.089164\n",
      "\n",
      "Train set: Average loss: 0.0082, Accuracy: 58413/60000 (97.4%)\n",
      "\n",
      "\n",
      "Test set: Average loss: 0.1001, Accuracy: 9702/10000 (97.020%)\n",
      "\n",
      "Train Epoch: 5 [0/60000 (0%)]\tLoss: 0.024468\n",
      "Train Epoch: 5 [6400/60000 (11%)]\tLoss: 0.145130\n",
      "Train Epoch: 5 [12800/60000 (21%)]\tLoss: 0.045725\n",
      "Train Epoch: 5 [19200/60000 (32%)]\tLoss: 0.057355\n",
      "Train Epoch: 5 [25600/60000 (43%)]\tLoss: 0.090993\n",
      "Train Epoch: 5 [32000/60000 (53%)]\tLoss: 0.024662\n",
      "Train Epoch: 5 [38400/60000 (64%)]\tLoss: 0.052863\n",
      "Train Epoch: 5 [44800/60000 (75%)]\tLoss: 0.155918\n",
      "Train Epoch: 5 [51200/60000 (85%)]\tLoss: 0.219928\n",
      "Train Epoch: 5 [57600/60000 (96%)]\tLoss: 0.048886\n",
      "\n",
      "Train set: Average loss: 0.0093, Accuracy: 58668/60000 (97.8%)\n",
      "\n",
      "\n",
      "Test set: Average loss: 0.0992, Accuracy: 9709/10000 (97.090%)\n",
      "\n",
      "Train Epoch: 6 [0/60000 (0%)]\tLoss: 0.021527\n",
      "Train Epoch: 6 [6400/60000 (11%)]\tLoss: 0.151316\n",
      "Train Epoch: 6 [12800/60000 (21%)]\tLoss: 0.043093\n",
      "Train Epoch: 6 [19200/60000 (32%)]\tLoss: 0.017900\n",
      "Train Epoch: 6 [25600/60000 (43%)]\tLoss: 0.052253\n",
      "Train Epoch: 6 [32000/60000 (53%)]\tLoss: 0.024861\n",
      "Train Epoch: 6 [38400/60000 (64%)]\tLoss: 0.048474\n",
      "Train Epoch: 6 [44800/60000 (75%)]\tLoss: 0.098794\n",
      "Train Epoch: 6 [51200/60000 (85%)]\tLoss: 0.150436\n",
      "Train Epoch: 6 [57600/60000 (96%)]\tLoss: 0.051482\n",
      "\n",
      "Train set: Average loss: 0.0192, Accuracy: 58907/60000 (98.2%)\n",
      "\n",
      "\n",
      "Test set: Average loss: 0.1050, Accuracy: 9692/10000 (96.920%)\n",
      "\n",
      "Train Epoch: 7 [0/60000 (0%)]\tLoss: 0.024580\n",
      "Train Epoch: 7 [6400/60000 (11%)]\tLoss: 0.084034\n",
      "Train Epoch: 7 [12800/60000 (21%)]\tLoss: 0.047355\n",
      "Train Epoch: 7 [19200/60000 (32%)]\tLoss: 0.018474\n",
      "Train Epoch: 7 [25600/60000 (43%)]\tLoss: 0.040534\n",
      "Train Epoch: 7 [32000/60000 (53%)]\tLoss: 0.017625\n",
      "Train Epoch: 7 [38400/60000 (64%)]\tLoss: 0.038510\n",
      "Train Epoch: 7 [44800/60000 (75%)]\tLoss: 0.108602\n",
      "Train Epoch: 7 [51200/60000 (85%)]\tLoss: 0.156120\n",
      "Train Epoch: 7 [57600/60000 (96%)]\tLoss: 0.033689\n",
      "\n",
      "Train set: Average loss: 0.0131, Accuracy: 59056/60000 (98.4%)\n",
      "\n",
      "\n",
      "Test set: Average loss: 0.1148, Accuracy: 9663/10000 (96.630%)\n",
      "\n",
      "Train Epoch: 8 [0/60000 (0%)]\tLoss: 0.023527\n",
      "Train Epoch: 8 [6400/60000 (11%)]\tLoss: 0.025169\n",
      "Train Epoch: 8 [12800/60000 (21%)]\tLoss: 0.140663\n",
      "Train Epoch: 8 [19200/60000 (32%)]\tLoss: 0.041312\n",
      "Train Epoch: 8 [25600/60000 (43%)]\tLoss: 0.044201\n",
      "Train Epoch: 8 [32000/60000 (53%)]\tLoss: 0.018447\n",
      "Train Epoch: 8 [38400/60000 (64%)]\tLoss: 0.041879\n",
      "Train Epoch: 8 [44800/60000 (75%)]\tLoss: 0.114833\n",
      "Train Epoch: 8 [51200/60000 (85%)]\tLoss: 0.135198\n",
      "Train Epoch: 8 [57600/60000 (96%)]\tLoss: 0.055836\n",
      "\n",
      "Train set: Average loss: 0.0012, Accuracy: 59106/60000 (98.5%)\n",
      "\n",
      "\n",
      "Test set: Average loss: 0.1220, Accuracy: 9668/10000 (96.680%)\n",
      "\n",
      "Train Epoch: 9 [0/60000 (0%)]\tLoss: 0.015416\n",
      "Train Epoch: 9 [6400/60000 (11%)]\tLoss: 0.054815\n",
      "Train Epoch: 9 [12800/60000 (21%)]\tLoss: 0.070788\n",
      "Train Epoch: 9 [19200/60000 (32%)]\tLoss: 0.024647\n",
      "Train Epoch: 9 [25600/60000 (43%)]\tLoss: 0.012327\n",
      "Train Epoch: 9 [32000/60000 (53%)]\tLoss: 0.026150\n",
      "Train Epoch: 9 [38400/60000 (64%)]\tLoss: 0.024596\n",
      "Train Epoch: 9 [44800/60000 (75%)]\tLoss: 0.064101\n",
      "Train Epoch: 9 [51200/60000 (85%)]\tLoss: 0.189518\n",
      "Train Epoch: 9 [57600/60000 (96%)]\tLoss: 0.037308\n",
      "\n",
      "Train set: Average loss: 0.0008, Accuracy: 59229/60000 (98.7%)\n",
      "\n",
      "\n",
      "Test set: Average loss: 0.1104, Accuracy: 9721/10000 (97.210%)\n",
      "\n",
      "Train Epoch: 10 [0/60000 (0%)]\tLoss: 0.026163\n",
      "Train Epoch: 10 [6400/60000 (11%)]\tLoss: 0.058959\n",
      "Train Epoch: 10 [12800/60000 (21%)]\tLoss: 0.040772\n",
      "Train Epoch: 10 [19200/60000 (32%)]\tLoss: 0.046341\n",
      "Train Epoch: 10 [25600/60000 (43%)]\tLoss: 0.014774\n",
      "Train Epoch: 10 [32000/60000 (53%)]\tLoss: 0.014404\n",
      "Train Epoch: 10 [38400/60000 (64%)]\tLoss: 0.018878\n",
      "Train Epoch: 10 [44800/60000 (75%)]\tLoss: 0.047231\n",
      "Train Epoch: 10 [51200/60000 (85%)]\tLoss: 0.154405\n",
      "Train Epoch: 10 [57600/60000 (96%)]\tLoss: 0.049364\n",
      "\n",
      "Train set: Average loss: 0.0006, Accuracy: 59274/60000 (98.8%)\n",
      "\n",
      "\n",
      "Test set: Average loss: 0.1108, Accuracy: 9723/10000 (97.230%)\n",
      "\n",
      "Training is finished.\n"
     ]
    }
   ],
   "source": [
    "#########################################################################\n",
    "#TODO: modify the parameters below to see which setting that you can get to 97%\n",
    "#########################################################################\n",
    "nLayer = 4\n",
    "nHidden = 64\n",
    "act_fn = nn.ReLU()\n",
    "\n",
    "# reinitialize the mlp, so we can play with parameters right here\n",
    "mlp = MLP(nInput, nOutput, nLayer, nHidden, act_fn)\n",
    "optimizer = optim.Adam(mlp.parameters())\n",
    "\n",
    "epochs = 10\n",
    "for epoch in range(1, epochs + 1):\n",
    "    train(mlp, dl_train, optimizer, epoch, log_interval=100)\n",
    "    test(mlp, dl_test)\n",
    "\n",
    "print ('Training is finished.')"
   ]
  },
  {
   "cell_type": "markdown",
   "metadata": {},
   "source": [
    "Before you move on to the next exercise, you can further play with the other parameters (learning rate, epochs, a different optimizer, etc.) to get a feeling what can improve or hamper performance. "
   ]
  },
  {
   "cell_type": "markdown",
   "metadata": {},
   "source": [
    "## CNN\n",
    "Alright, we matched our prior performance. Let's surpass it! You will soon see the power of CNN by building a small one yourself. The structure should be as follows\n",
    "\n",
    "| CNN Architecture                             \t|\n",
    "|----------------------------------------------\t|\n",
    "| Conv: $C_{in}=1, C_{out}=32, K=3, S=1, P=0$  \t|\n",
    "| ReLU                                         \t|\n",
    "| Conv: $C_{in}=32, C_{out}=64, K=3, S=1, P=0$ \t|\n",
    "| ReLU                                         \t|\n",
    "| MaxPool2d: $K=2, S=2, P=0$                   \t|\n",
    "| Dropout: $p=0.25$                            \t|\n",
    "| Linear: $C_{in}=9216, C_{out}=128$           \t|\n",
    "| ReLU                                         \t|\n",
    "| Dropout: $p=0.5$                             \t|\n",
    "| Linear: $C_{in}=128, C_{out}=10$             \t|\n",
    "\n",
    "The layers you will need are: \n",
    "\n",
    "`nn.Conv2d,  nn.Linear,  nn.Dropout, nn.MaxPool2d, nn.Flatten`\n",
    "\n",
    "For layers without parameters you can alternatively use function in the forward pass:  \n",
    "\n",
    "`F.max_pool2d, torch.flatten`"
   ]
  },
  {
   "cell_type": "code",
   "execution_count": 36,
   "metadata": {},
   "outputs": [],
   "source": [
    "#########################################################################\n",
    "# TODO: Implement the __init__ and forward method of the CNN class. \n",
    "# Hint: do not forget to flatten the appropriate dimension after the convolutional blocks. \n",
    "# A linear layers expect input of the size (B, H) with batch size B and feature size H\n",
    "#########################################################################\n",
    "\n",
    "class CNN(nn.Module):\n",
    "    def __init__(self):\n",
    "        super(CNN, self).__init__()\n",
    "        mods =[]\n",
    "        mods.append(nn.Conv2d(in_channels=1,out_channels=32,kernel_size=3,stride=1,padding=0))\n",
    "        mods.append(nn.ReLU())\n",
    "        mods.append(nn.Conv2d(in_channels=32,out_channels=64,kernel_size=3,stride=1,padding=0))\n",
    "        mods.append(nn.ReLU())\n",
    "        mods.append(nn.MaxPool2d(2,2,0))\n",
    "        mods.append(nn.Dropout(p=0.25))\n",
    "        mods.append(nn.Flatten())\n",
    "        mods.append(nn.Linear(9216,128))\n",
    "        mods.append(nn.ReLU())\n",
    "        mods.append(nn.Dropout(p=0.5))\n",
    "        mods.append(nn.Linear(128,10))\n",
    "        \n",
    "        self.model = nn.Sequential(*mods)\n",
    "        \n",
    "    def forward(self, x):\n",
    "        return self.model(x)\n"
   ]
  },
  {
   "cell_type": "code",
   "execution_count": 37,
   "metadata": {},
   "outputs": [
    {
     "data": {
      "text/plain": [
       "torch.Size([1, 10])"
      ]
     },
     "execution_count": 37,
     "metadata": {},
     "output_type": "execute_result"
    }
   ],
   "source": [
    "# Let's test if the forward pass works\n",
    "# this should print torch.Size([1, 10])\n",
    "t = torch.randn(1,1,28,28)\n",
    "cnn = CNN()\n",
    "cnn(t).shape"
   ]
  },
  {
   "cell_type": "markdown",
   "metadata": {},
   "source": [
    "Alright, let's train!"
   ]
  },
  {
   "cell_type": "code",
   "execution_count": 38,
   "metadata": {},
   "outputs": [],
   "source": [
    "optimizer = optim.Adam(cnn.parameters())"
   ]
  },
  {
   "cell_type": "code",
   "execution_count": 39,
   "metadata": {
    "scrolled": true
   },
   "outputs": [
    {
     "name": "stdout",
     "output_type": "stream",
     "text": [
      "Train Epoch: 1 [0/60000 (0%)]\tLoss: 2.295207\n",
      "Train Epoch: 1 [6400/60000 (11%)]\tLoss: 0.287477\n",
      "Train Epoch: 1 [12800/60000 (21%)]\tLoss: 0.116030\n",
      "Train Epoch: 1 [19200/60000 (32%)]\tLoss: 0.245737\n",
      "Train Epoch: 1 [25600/60000 (43%)]\tLoss: 0.162135\n",
      "Train Epoch: 1 [32000/60000 (53%)]\tLoss: 0.090896\n",
      "Train Epoch: 1 [38400/60000 (64%)]\tLoss: 0.072179\n",
      "Train Epoch: 1 [44800/60000 (75%)]\tLoss: 0.166061\n",
      "Train Epoch: 1 [51200/60000 (85%)]\tLoss: 0.174899\n",
      "Train Epoch: 1 [57600/60000 (96%)]\tLoss: 0.169402\n",
      "\n",
      "Train set: Average loss: 0.0185, Accuracy: 56473/60000 (94.1%)\n",
      "\n",
      "\n",
      "Test set: Average loss: 0.0461, Accuracy: 9858/10000 (98.580%)\n",
      "\n",
      "Train Epoch: 2 [0/60000 (0%)]\tLoss: 0.108429\n",
      "Train Epoch: 2 [6400/60000 (11%)]\tLoss: 0.093740\n",
      "Train Epoch: 2 [12800/60000 (21%)]\tLoss: 0.034650\n",
      "Train Epoch: 2 [19200/60000 (32%)]\tLoss: 0.156272\n",
      "Train Epoch: 2 [25600/60000 (43%)]\tLoss: 0.072954\n",
      "Train Epoch: 2 [32000/60000 (53%)]\tLoss: 0.105014\n",
      "Train Epoch: 2 [38400/60000 (64%)]\tLoss: 0.079339\n",
      "Train Epoch: 2 [44800/60000 (75%)]\tLoss: 0.041480\n",
      "Train Epoch: 2 [51200/60000 (85%)]\tLoss: 0.191536\n",
      "Train Epoch: 2 [57600/60000 (96%)]\tLoss: 0.020949\n",
      "\n",
      "Train set: Average loss: 0.0034, Accuracy: 58506/60000 (97.5%)\n",
      "\n",
      "\n",
      "Test set: Average loss: 0.0360, Accuracy: 9881/10000 (98.810%)\n",
      "\n",
      "Train Epoch: 3 [0/60000 (0%)]\tLoss: 0.015018\n",
      "Train Epoch: 3 [6400/60000 (11%)]\tLoss: 0.089983\n",
      "Train Epoch: 3 [12800/60000 (21%)]\tLoss: 0.047832\n",
      "Train Epoch: 3 [19200/60000 (32%)]\tLoss: 0.038395\n",
      "Train Epoch: 3 [25600/60000 (43%)]\tLoss: 0.097568\n",
      "Train Epoch: 3 [32000/60000 (53%)]\tLoss: 0.122052\n",
      "Train Epoch: 3 [38400/60000 (64%)]\tLoss: 0.051942\n",
      "Train Epoch: 3 [44800/60000 (75%)]\tLoss: 0.145792\n",
      "Train Epoch: 3 [51200/60000 (85%)]\tLoss: 0.117899\n",
      "Train Epoch: 3 [57600/60000 (96%)]\tLoss: 0.029512\n",
      "\n",
      "Train set: Average loss: 0.0088, Accuracy: 58879/60000 (98.1%)\n",
      "\n",
      "\n",
      "Test set: Average loss: 0.0363, Accuracy: 9880/10000 (98.800%)\n",
      "\n",
      "Train Epoch: 4 [0/60000 (0%)]\tLoss: 0.013038\n",
      "Train Epoch: 4 [6400/60000 (11%)]\tLoss: 0.109519\n",
      "Train Epoch: 4 [12800/60000 (21%)]\tLoss: 0.021064\n",
      "Train Epoch: 4 [19200/60000 (32%)]\tLoss: 0.025403\n",
      "Train Epoch: 4 [25600/60000 (43%)]\tLoss: 0.104700\n",
      "Train Epoch: 4 [32000/60000 (53%)]\tLoss: 0.051275\n",
      "Train Epoch: 4 [38400/60000 (64%)]\tLoss: 0.009713\n",
      "Train Epoch: 4 [44800/60000 (75%)]\tLoss: 0.040751\n",
      "Train Epoch: 4 [51200/60000 (85%)]\tLoss: 0.220874\n",
      "Train Epoch: 4 [57600/60000 (96%)]\tLoss: 0.019937\n",
      "\n",
      "Train set: Average loss: 0.0025, Accuracy: 59096/60000 (98.5%)\n",
      "\n",
      "\n",
      "Test set: Average loss: 0.0320, Accuracy: 9887/10000 (98.870%)\n",
      "\n",
      "Train Epoch: 5 [0/60000 (0%)]\tLoss: 0.006576\n",
      "Train Epoch: 5 [6400/60000 (11%)]\tLoss: 0.101798\n",
      "Train Epoch: 5 [12800/60000 (21%)]\tLoss: 0.105661\n",
      "Train Epoch: 5 [19200/60000 (32%)]\tLoss: 0.097075\n",
      "Train Epoch: 5 [25600/60000 (43%)]\tLoss: 0.025389\n",
      "Train Epoch: 5 [32000/60000 (53%)]\tLoss: 0.041979\n",
      "Train Epoch: 5 [38400/60000 (64%)]\tLoss: 0.074810\n",
      "Train Epoch: 5 [44800/60000 (75%)]\tLoss: 0.022675\n",
      "Train Epoch: 5 [51200/60000 (85%)]\tLoss: 0.076682\n",
      "Train Epoch: 5 [57600/60000 (96%)]\tLoss: 0.057127\n",
      "\n",
      "Train set: Average loss: 0.0051, Accuracy: 59196/60000 (98.7%)\n",
      "\n",
      "\n",
      "Test set: Average loss: 0.0351, Accuracy: 9884/10000 (98.840%)\n",
      "\n"
     ]
    }
   ],
   "source": [
    "epochs = 5\n",
    "for epoch in range(1, epochs + 1):\n",
    "    train(cnn, dl_train, optimizer, epoch, log_interval=100)\n",
    "    test(cnn, dl_test)"
   ]
  },
  {
   "cell_type": "markdown",
   "metadata": {},
   "source": [
    "This will probably take a bit longer to train, as a convolutional network is not very efficient on a CPU. The current settings should get you around **99%** accuracy. Nice! \n",
    "Again, you should try different hyperparameters and see how far you can push the performance."
   ]
  },
  {
   "cell_type": "markdown",
   "metadata": {},
   "source": [
    "### Inline Question\n",
    "\n",
    "If your model weight is randomly initalized, and no training is done as above. What accuracy do you think the model will get for a 10-class classification task in theory?\n",
    "\n",
    "**Your answer**: \n",
    "probably 10% with no training and random initialization."
   ]
  },
  {
   "cell_type": "markdown",
   "metadata": {},
   "source": [
    "## Training on CIFAR10\n",
    "\n",
    "Now we are going to move to something more challenging - CIFAR10. We can reuse most of the code above. Thankfully, CIFAR is also a popular dataset, so we can again make use of a PyTorch convience function."
   ]
  },
  {
   "cell_type": "code",
   "execution_count": 40,
   "metadata": {},
   "outputs": [
    {
     "name": "stdout",
     "output_type": "stream",
     "text": [
      "Downloading https://www.cs.toronto.edu/~kriz/cifar-10-python.tar.gz to ./data/cifar-10-python.tar.gz\n"
     ]
    },
    {
     "name": "stderr",
     "output_type": "stream",
     "text": [
      "170499072it [00:19, 8790961.52it/s]                                             \n"
     ]
    },
    {
     "name": "stdout",
     "output_type": "stream",
     "text": [
      "Extracting ./data/cifar-10-python.tar.gz to ./data\n"
     ]
    }
   ],
   "source": [
    "ds_train = datasets.CIFAR10(root='./data', train=True, download=True)"
   ]
  },
  {
   "cell_type": "markdown",
   "metadata": {},
   "source": [
    "This dataset is not normalized yet, so we need to calculate the normalization constants."
   ]
  },
  {
   "cell_type": "code",
   "execution_count": 41,
   "metadata": {},
   "outputs": [],
   "source": [
    "ims_train = torch.tensor(ds_train.data)\n",
    "ims_train = ims_train.float() / 255."
   ]
  },
  {
   "cell_type": "code",
   "execution_count": 48,
   "metadata": {},
   "outputs": [
    {
     "data": {
      "text/plain": [
       "tensor([0.2470, 0.2435, 0.2616])"
      ]
     },
     "execution_count": 48,
     "metadata": {},
     "output_type": "execute_result"
    }
   ],
   "source": [
    "ims_train.std((0,1,2))"
   ]
  },
  {
   "cell_type": "code",
   "execution_count": 49,
   "metadata": {},
   "outputs": [],
   "source": [
    "#########################################################################\n",
    "# TODO: calculate the mean and std of CIFAR\n",
    "# hint: We want the mean and std of the channel dimension, these should\n",
    "# be 3 dimensional\n",
    "#########################################################################\n",
    "mu = ims_train.mean((0,1,2))\n",
    "std =ims_train.std((0,1,2))\n"
   ]
  },
  {
   "cell_type": "code",
   "execution_count": 50,
   "metadata": {},
   "outputs": [
    {
     "data": {
      "text/plain": [
       "tensor([0.4914, 0.4822, 0.4465])"
      ]
     },
     "execution_count": 50,
     "metadata": {},
     "output_type": "execute_result"
    }
   ],
   "source": [
    "torch.mean(ims_train, dim=(0,1,2))"
   ]
  },
  {
   "cell_type": "markdown",
   "metadata": {},
   "source": [
    "For CIFAR we want to make use of data augmentation to improve generalization. You will find all data augmentations data are included in torchvision here:\n",
    "\n",
    "https://pytorch.org/docs/stable/torchvision/transforms.html"
   ]
  },
  {
   "cell_type": "code",
   "execution_count": 53,
   "metadata": {},
   "outputs": [
    {
     "name": "stdout",
     "output_type": "stream",
     "text": [
      "Files already downloaded and verified\n",
      "Files already downloaded and verified\n"
     ]
    }
   ],
   "source": [
    "BATCH_SIZE = 128\n",
    "NUM_WORKERS = 4 # if you encounter some unexpected errors in data loading, try setting `NUM_WORKERS = 0`\n",
    "#########################################################################\n",
    "# TODO: Implement the proper transforms for the training and test dataloaders. \n",
    "# Then build train and test dataloaders with batch size 128 and 4 workers\n",
    "#\n",
    "# Train: \n",
    "# - Apply a random crop with size 32 on a padded version of the image with P=4\n",
    "# - Flip the image horizontally with a probability of 40 %\n",
    "# - Transform to a Tensor\n",
    "# - Normalize with the constants calculated above\n",
    "# Test: \n",
    "# - Transform to a Tensor\n",
    "# - Normalize with the constants calculated above\n",
    "#########################################################################\n",
    "transform_train = transforms.Compose([transforms.RandomCrop(size=32,padding=4),transforms.RandomHorizontalFlip(p=0.4),transforms.ToTensor(),transforms.Normalize(mu,std)])\n",
    "transform_test =  transforms.Compose([transforms.ToTensor(),transforms.Normalize(mu,std)])\n",
    "\n",
    "ds_train = datasets.CIFAR10('./data', train=True, download=True, transform=transform_train)\n",
    "ds_test = datasets.CIFAR10('./data', train=False, download=True, transform=transform_test)\n",
    "\n",
    "dl_train = DataLoader(ds_train,batch_size=BATCH_SIZE,num_workers=NUM_WORKERS)\n",
    "dl_test = DataLoader(ds_test,batch_size=BATCH_SIZE,num_workers=NUM_WORKERS)"
   ]
  },
  {
   "cell_type": "markdown",
   "metadata": {},
   "source": [
    "Setting up the  optimizer, this time we use SGD. The scheduler adapts the learning rate during traing (you can ignore it)"
   ]
  },
  {
   "cell_type": "code",
   "execution_count": 54,
   "metadata": {},
   "outputs": [],
   "source": [
    "cnn = CNN()\n",
    "optimizer = optim.SGD(cnn.parameters(), lr=0.1, momentum=0.9, weight_decay=5e-4)\n",
    "scheduler = torch.optim.lr_scheduler.CosineAnnealingLR(optimizer, T_max=200)"
   ]
  },
  {
   "cell_type": "code",
   "execution_count": 55,
   "metadata": {
    "scrolled": true
   },
   "outputs": [
    {
     "ename": "RuntimeError",
     "evalue": "Given groups=1, weight of size [32, 1, 3, 3], expected input[128, 3, 32, 32] to have 1 channels, but got 3 channels instead",
     "output_type": "error",
     "traceback": [
      "\u001b[0;31m---------------------------------------------------------------------------\u001b[0m",
      "\u001b[0;31mRuntimeError\u001b[0m                              Traceback (most recent call last)",
      "Input \u001b[0;32mIn [55]\u001b[0m, in \u001b[0;36m<cell line: 2>\u001b[0;34m()\u001b[0m\n\u001b[1;32m      1\u001b[0m epochs \u001b[38;5;241m=\u001b[39m \u001b[38;5;241m5\u001b[39m\n\u001b[1;32m      2\u001b[0m \u001b[38;5;28;01mfor\u001b[39;00m epoch \u001b[38;5;129;01min\u001b[39;00m \u001b[38;5;28mrange\u001b[39m(\u001b[38;5;241m1\u001b[39m, epochs \u001b[38;5;241m+\u001b[39m \u001b[38;5;241m1\u001b[39m):\n\u001b[0;32m----> 3\u001b[0m     \u001b[43mtrain\u001b[49m\u001b[43m(\u001b[49m\u001b[43mcnn\u001b[49m\u001b[43m,\u001b[49m\u001b[43m \u001b[49m\u001b[43mdl_train\u001b[49m\u001b[43m,\u001b[49m\u001b[43m \u001b[49m\u001b[43moptimizer\u001b[49m\u001b[43m,\u001b[49m\u001b[43m \u001b[49m\u001b[43mepoch\u001b[49m\u001b[43m,\u001b[49m\u001b[43m \u001b[49m\u001b[43mlog_interval\u001b[49m\u001b[38;5;241;43m=\u001b[39;49m\u001b[38;5;241;43m100\u001b[39;49m\u001b[43m)\u001b[49m\n\u001b[1;32m      4\u001b[0m     test(cnn, dl_test)    \n\u001b[1;32m      5\u001b[0m     scheduler\u001b[38;5;241m.\u001b[39mstep()\n",
      "Input \u001b[0;32mIn [24]\u001b[0m, in \u001b[0;36mtrain\u001b[0;34m(model, dl_train, optimizer, epoch, log_interval, device)\u001b[0m\n\u001b[1;32m     14\u001b[0m optimizer\u001b[38;5;241m.\u001b[39mzero_grad()         \n\u001b[1;32m     16\u001b[0m \u001b[38;5;66;03m##### implement this part #####\u001b[39;00m\n\u001b[0;32m---> 17\u001b[0m output \u001b[38;5;241m=\u001b[39m \u001b[43mmodel\u001b[49m\u001b[43m(\u001b[49m\u001b[43mdata\u001b[49m\u001b[43m)\u001b[49m\n\u001b[1;32m     18\u001b[0m loss \u001b[38;5;241m=\u001b[39m F\u001b[38;5;241m.\u001b[39mcross_entropy(output,target,reduction\u001b[38;5;241m=\u001b[39m\u001b[38;5;124m'\u001b[39m\u001b[38;5;124mmean\u001b[39m\u001b[38;5;124m'\u001b[39m)\n\u001b[1;32m     20\u001b[0m loss\u001b[38;5;241m.\u001b[39mbackward()\n",
      "File \u001b[0;32m~/anaconda3/envs/dl4cv/lib/python3.9/site-packages/torch/nn/modules/module.py:1051\u001b[0m, in \u001b[0;36mModule._call_impl\u001b[0;34m(self, *input, **kwargs)\u001b[0m\n\u001b[1;32m   1047\u001b[0m \u001b[38;5;66;03m# If we don't have any hooks, we want to skip the rest of the logic in\u001b[39;00m\n\u001b[1;32m   1048\u001b[0m \u001b[38;5;66;03m# this function, and just call forward.\u001b[39;00m\n\u001b[1;32m   1049\u001b[0m \u001b[38;5;28;01mif\u001b[39;00m \u001b[38;5;129;01mnot\u001b[39;00m (\u001b[38;5;28mself\u001b[39m\u001b[38;5;241m.\u001b[39m_backward_hooks \u001b[38;5;129;01mor\u001b[39;00m \u001b[38;5;28mself\u001b[39m\u001b[38;5;241m.\u001b[39m_forward_hooks \u001b[38;5;129;01mor\u001b[39;00m \u001b[38;5;28mself\u001b[39m\u001b[38;5;241m.\u001b[39m_forward_pre_hooks \u001b[38;5;129;01mor\u001b[39;00m _global_backward_hooks\n\u001b[1;32m   1050\u001b[0m         \u001b[38;5;129;01mor\u001b[39;00m _global_forward_hooks \u001b[38;5;129;01mor\u001b[39;00m _global_forward_pre_hooks):\n\u001b[0;32m-> 1051\u001b[0m     \u001b[38;5;28;01mreturn\u001b[39;00m \u001b[43mforward_call\u001b[49m\u001b[43m(\u001b[49m\u001b[38;5;241;43m*\u001b[39;49m\u001b[38;5;28;43minput\u001b[39;49m\u001b[43m,\u001b[49m\u001b[43m \u001b[49m\u001b[38;5;241;43m*\u001b[39;49m\u001b[38;5;241;43m*\u001b[39;49m\u001b[43mkwargs\u001b[49m\u001b[43m)\u001b[49m\n\u001b[1;32m   1052\u001b[0m \u001b[38;5;66;03m# Do not call functions when jit is used\u001b[39;00m\n\u001b[1;32m   1053\u001b[0m full_backward_hooks, non_full_backward_hooks \u001b[38;5;241m=\u001b[39m [], []\n",
      "Input \u001b[0;32mIn [36]\u001b[0m, in \u001b[0;36mCNN.forward\u001b[0;34m(self, x)\u001b[0m\n\u001b[1;32m     25\u001b[0m \u001b[38;5;28;01mdef\u001b[39;00m \u001b[38;5;21mforward\u001b[39m(\u001b[38;5;28mself\u001b[39m, x):\n\u001b[0;32m---> 26\u001b[0m     \u001b[38;5;28;01mreturn\u001b[39;00m \u001b[38;5;28;43mself\u001b[39;49m\u001b[38;5;241;43m.\u001b[39;49m\u001b[43mmodel\u001b[49m\u001b[43m(\u001b[49m\u001b[43mx\u001b[49m\u001b[43m)\u001b[49m\n",
      "File \u001b[0;32m~/anaconda3/envs/dl4cv/lib/python3.9/site-packages/torch/nn/modules/module.py:1051\u001b[0m, in \u001b[0;36mModule._call_impl\u001b[0;34m(self, *input, **kwargs)\u001b[0m\n\u001b[1;32m   1047\u001b[0m \u001b[38;5;66;03m# If we don't have any hooks, we want to skip the rest of the logic in\u001b[39;00m\n\u001b[1;32m   1048\u001b[0m \u001b[38;5;66;03m# this function, and just call forward.\u001b[39;00m\n\u001b[1;32m   1049\u001b[0m \u001b[38;5;28;01mif\u001b[39;00m \u001b[38;5;129;01mnot\u001b[39;00m (\u001b[38;5;28mself\u001b[39m\u001b[38;5;241m.\u001b[39m_backward_hooks \u001b[38;5;129;01mor\u001b[39;00m \u001b[38;5;28mself\u001b[39m\u001b[38;5;241m.\u001b[39m_forward_hooks \u001b[38;5;129;01mor\u001b[39;00m \u001b[38;5;28mself\u001b[39m\u001b[38;5;241m.\u001b[39m_forward_pre_hooks \u001b[38;5;129;01mor\u001b[39;00m _global_backward_hooks\n\u001b[1;32m   1050\u001b[0m         \u001b[38;5;129;01mor\u001b[39;00m _global_forward_hooks \u001b[38;5;129;01mor\u001b[39;00m _global_forward_pre_hooks):\n\u001b[0;32m-> 1051\u001b[0m     \u001b[38;5;28;01mreturn\u001b[39;00m \u001b[43mforward_call\u001b[49m\u001b[43m(\u001b[49m\u001b[38;5;241;43m*\u001b[39;49m\u001b[38;5;28;43minput\u001b[39;49m\u001b[43m,\u001b[49m\u001b[43m \u001b[49m\u001b[38;5;241;43m*\u001b[39;49m\u001b[38;5;241;43m*\u001b[39;49m\u001b[43mkwargs\u001b[49m\u001b[43m)\u001b[49m\n\u001b[1;32m   1052\u001b[0m \u001b[38;5;66;03m# Do not call functions when jit is used\u001b[39;00m\n\u001b[1;32m   1053\u001b[0m full_backward_hooks, non_full_backward_hooks \u001b[38;5;241m=\u001b[39m [], []\n",
      "File \u001b[0;32m~/anaconda3/envs/dl4cv/lib/python3.9/site-packages/torch/nn/modules/container.py:139\u001b[0m, in \u001b[0;36mSequential.forward\u001b[0;34m(self, input)\u001b[0m\n\u001b[1;32m    137\u001b[0m \u001b[38;5;28;01mdef\u001b[39;00m \u001b[38;5;21mforward\u001b[39m(\u001b[38;5;28mself\u001b[39m, \u001b[38;5;28minput\u001b[39m):\n\u001b[1;32m    138\u001b[0m     \u001b[38;5;28;01mfor\u001b[39;00m module \u001b[38;5;129;01min\u001b[39;00m \u001b[38;5;28mself\u001b[39m:\n\u001b[0;32m--> 139\u001b[0m         \u001b[38;5;28minput\u001b[39m \u001b[38;5;241m=\u001b[39m \u001b[43mmodule\u001b[49m\u001b[43m(\u001b[49m\u001b[38;5;28;43minput\u001b[39;49m\u001b[43m)\u001b[49m\n\u001b[1;32m    140\u001b[0m     \u001b[38;5;28;01mreturn\u001b[39;00m \u001b[38;5;28minput\u001b[39m\n",
      "File \u001b[0;32m~/anaconda3/envs/dl4cv/lib/python3.9/site-packages/torch/nn/modules/module.py:1051\u001b[0m, in \u001b[0;36mModule._call_impl\u001b[0;34m(self, *input, **kwargs)\u001b[0m\n\u001b[1;32m   1047\u001b[0m \u001b[38;5;66;03m# If we don't have any hooks, we want to skip the rest of the logic in\u001b[39;00m\n\u001b[1;32m   1048\u001b[0m \u001b[38;5;66;03m# this function, and just call forward.\u001b[39;00m\n\u001b[1;32m   1049\u001b[0m \u001b[38;5;28;01mif\u001b[39;00m \u001b[38;5;129;01mnot\u001b[39;00m (\u001b[38;5;28mself\u001b[39m\u001b[38;5;241m.\u001b[39m_backward_hooks \u001b[38;5;129;01mor\u001b[39;00m \u001b[38;5;28mself\u001b[39m\u001b[38;5;241m.\u001b[39m_forward_hooks \u001b[38;5;129;01mor\u001b[39;00m \u001b[38;5;28mself\u001b[39m\u001b[38;5;241m.\u001b[39m_forward_pre_hooks \u001b[38;5;129;01mor\u001b[39;00m _global_backward_hooks\n\u001b[1;32m   1050\u001b[0m         \u001b[38;5;129;01mor\u001b[39;00m _global_forward_hooks \u001b[38;5;129;01mor\u001b[39;00m _global_forward_pre_hooks):\n\u001b[0;32m-> 1051\u001b[0m     \u001b[38;5;28;01mreturn\u001b[39;00m \u001b[43mforward_call\u001b[49m\u001b[43m(\u001b[49m\u001b[38;5;241;43m*\u001b[39;49m\u001b[38;5;28;43minput\u001b[39;49m\u001b[43m,\u001b[49m\u001b[43m \u001b[49m\u001b[38;5;241;43m*\u001b[39;49m\u001b[38;5;241;43m*\u001b[39;49m\u001b[43mkwargs\u001b[49m\u001b[43m)\u001b[49m\n\u001b[1;32m   1052\u001b[0m \u001b[38;5;66;03m# Do not call functions when jit is used\u001b[39;00m\n\u001b[1;32m   1053\u001b[0m full_backward_hooks, non_full_backward_hooks \u001b[38;5;241m=\u001b[39m [], []\n",
      "File \u001b[0;32m~/anaconda3/envs/dl4cv/lib/python3.9/site-packages/torch/nn/modules/conv.py:443\u001b[0m, in \u001b[0;36mConv2d.forward\u001b[0;34m(self, input)\u001b[0m\n\u001b[1;32m    442\u001b[0m \u001b[38;5;28;01mdef\u001b[39;00m \u001b[38;5;21mforward\u001b[39m(\u001b[38;5;28mself\u001b[39m, \u001b[38;5;28minput\u001b[39m: Tensor) \u001b[38;5;241m-\u001b[39m\u001b[38;5;241m>\u001b[39m Tensor:\n\u001b[0;32m--> 443\u001b[0m     \u001b[38;5;28;01mreturn\u001b[39;00m \u001b[38;5;28;43mself\u001b[39;49m\u001b[38;5;241;43m.\u001b[39;49m\u001b[43m_conv_forward\u001b[49m\u001b[43m(\u001b[49m\u001b[38;5;28;43minput\u001b[39;49m\u001b[43m,\u001b[49m\u001b[43m \u001b[49m\u001b[38;5;28;43mself\u001b[39;49m\u001b[38;5;241;43m.\u001b[39;49m\u001b[43mweight\u001b[49m\u001b[43m,\u001b[49m\u001b[43m \u001b[49m\u001b[38;5;28;43mself\u001b[39;49m\u001b[38;5;241;43m.\u001b[39;49m\u001b[43mbias\u001b[49m\u001b[43m)\u001b[49m\n",
      "File \u001b[0;32m~/anaconda3/envs/dl4cv/lib/python3.9/site-packages/torch/nn/modules/conv.py:439\u001b[0m, in \u001b[0;36mConv2d._conv_forward\u001b[0;34m(self, input, weight, bias)\u001b[0m\n\u001b[1;32m    435\u001b[0m \u001b[38;5;28;01mif\u001b[39;00m \u001b[38;5;28mself\u001b[39m\u001b[38;5;241m.\u001b[39mpadding_mode \u001b[38;5;241m!=\u001b[39m \u001b[38;5;124m'\u001b[39m\u001b[38;5;124mzeros\u001b[39m\u001b[38;5;124m'\u001b[39m:\n\u001b[1;32m    436\u001b[0m     \u001b[38;5;28;01mreturn\u001b[39;00m F\u001b[38;5;241m.\u001b[39mconv2d(F\u001b[38;5;241m.\u001b[39mpad(\u001b[38;5;28minput\u001b[39m, \u001b[38;5;28mself\u001b[39m\u001b[38;5;241m.\u001b[39m_reversed_padding_repeated_twice, mode\u001b[38;5;241m=\u001b[39m\u001b[38;5;28mself\u001b[39m\u001b[38;5;241m.\u001b[39mpadding_mode),\n\u001b[1;32m    437\u001b[0m                     weight, bias, \u001b[38;5;28mself\u001b[39m\u001b[38;5;241m.\u001b[39mstride,\n\u001b[1;32m    438\u001b[0m                     _pair(\u001b[38;5;241m0\u001b[39m), \u001b[38;5;28mself\u001b[39m\u001b[38;5;241m.\u001b[39mdilation, \u001b[38;5;28mself\u001b[39m\u001b[38;5;241m.\u001b[39mgroups)\n\u001b[0;32m--> 439\u001b[0m \u001b[38;5;28;01mreturn\u001b[39;00m \u001b[43mF\u001b[49m\u001b[38;5;241;43m.\u001b[39;49m\u001b[43mconv2d\u001b[49m\u001b[43m(\u001b[49m\u001b[38;5;28;43minput\u001b[39;49m\u001b[43m,\u001b[49m\u001b[43m \u001b[49m\u001b[43mweight\u001b[49m\u001b[43m,\u001b[49m\u001b[43m \u001b[49m\u001b[43mbias\u001b[49m\u001b[43m,\u001b[49m\u001b[43m \u001b[49m\u001b[38;5;28;43mself\u001b[39;49m\u001b[38;5;241;43m.\u001b[39;49m\u001b[43mstride\u001b[49m\u001b[43m,\u001b[49m\n\u001b[1;32m    440\u001b[0m \u001b[43m                \u001b[49m\u001b[38;5;28;43mself\u001b[39;49m\u001b[38;5;241;43m.\u001b[39;49m\u001b[43mpadding\u001b[49m\u001b[43m,\u001b[49m\u001b[43m \u001b[49m\u001b[38;5;28;43mself\u001b[39;49m\u001b[38;5;241;43m.\u001b[39;49m\u001b[43mdilation\u001b[49m\u001b[43m,\u001b[49m\u001b[43m \u001b[49m\u001b[38;5;28;43mself\u001b[39;49m\u001b[38;5;241;43m.\u001b[39;49m\u001b[43mgroups\u001b[49m\u001b[43m)\u001b[49m\n",
      "\u001b[0;31mRuntimeError\u001b[0m: Given groups=1, weight of size [32, 1, 3, 3], expected input[128, 3, 32, 32] to have 1 channels, but got 3 channels instead"
     ]
    }
   ],
   "source": [
    "epochs = 5\n",
    "for epoch in range(1, epochs + 1):\n",
    "    train(cnn, dl_train, optimizer, epoch, log_interval=100)\n",
    "    test(cnn, dl_test)    \n",
    "    scheduler.step()"
   ]
  },
  {
   "cell_type": "markdown",
   "metadata": {},
   "source": [
    "This will not work. You should see the following error message\n",
    "\n",
    "```\n",
    "Given groups=1, weight of size [32, 1, 3, 3], expected input[128, 3, 32, 32] to have 1 channels, but got 3 channels instead\n",
    "```\n",
    "\n",
    "This error is telling us that something is not right in the definition of our model. Copy the CNN class from above and make changes, so the training works."
   ]
  },
  {
   "cell_type": "code",
   "execution_count": 58,
   "metadata": {},
   "outputs": [],
   "source": [
    "#########################################################################\n",
    "# TODO: Adapt the definition from the CNN class above to work on CIFAR.\n",
    "# You can copy and run the following prompt for evaluation:\n",
    "# CNN()(torch.randn(1,3,32,32)).shape\n",
    "# It should print 'torch.Size([1, 10])'\n",
    "# Hint: You need to change 2 things. \n",
    "#########################################################################\n",
    "class CNN(nn.Module):\n",
    "    def __init__(self):\n",
    "        super(CNN, self).__init__()\n",
    "        mods =[]\n",
    "        mods.append(nn.Conv2d(in_channels=3,out_channels=32,kernel_size=3,stride=1,padding=0))\n",
    "        mods.append(nn.ReLU())\n",
    "        mods.append(nn.Conv2d(in_channels=32,out_channels=64,kernel_size=3,stride=1,padding=0))\n",
    "        mods.append(nn.ReLU())\n",
    "        mods.append(nn.MaxPool2d(2,2,0))\n",
    "        mods.append(nn.Dropout(p=0.25))\n",
    "        mods.append(nn.Flatten())\n",
    "        mods.append(nn.Linear(12544,128))\n",
    "        mods.append(nn.ReLU())\n",
    "        mods.append(nn.Dropout(p=0.5))\n",
    "        mods.append(nn.Linear(128,10))\n",
    "        \n",
    "        self.model = nn.Sequential(*mods)\n",
    "        \n",
    "    def forward(self, x):\n",
    "        return self.model(x)\n"
   ]
  },
  {
   "cell_type": "markdown",
   "metadata": {},
   "source": [
    "Let's try again"
   ]
  },
  {
   "cell_type": "code",
   "execution_count": null,
   "metadata": {
    "scrolled": true
   },
   "outputs": [
    {
     "name": "stdout",
     "output_type": "stream",
     "text": [
      "Train Epoch: 1 [0/50000 (0%)]\tLoss: 2.320666\n",
      "Train Epoch: 1 [12800/50000 (26%)]\tLoss: 2.022035\n"
     ]
    }
   ],
   "source": [
    "cnn = CNN()\n",
    "optimizer = optim.SGD(cnn.parameters(), lr=0.1, momentum=0.9, weight_decay=5e-4)\n",
    "scheduler = torch.optim.lr_scheduler.CosineAnnealingLR(optimizer, T_max=200)\n",
    "\n",
    "epochs = 10\n",
    "for epoch in range(1, epochs + 1):\n",
    "    train(cnn, dl_train, optimizer, epoch, log_interval=100)\n",
    "    test(cnn, dl_test)    \n",
    "    scheduler.step()"
   ]
  },
  {
   "cell_type": "markdown",
   "metadata": {},
   "source": [
    "This should give 40 - 50 % - and if you are not already on Colab it will give you a stressed out laptop. The performance is a lot better than random, but we can definitely do better."
   ]
  },
  {
   "cell_type": "markdown",
   "metadata": {},
   "source": [
    "### Have fun with GPUs\n",
    "You can already call it a day until this point because we won't grade the rest of the excecise. You can have more fun with the rest :)\n"
   ]
  },
  {
   "cell_type": "markdown",
   "metadata": {},
   "source": [
    "\n",
    "If you didn't already, move to colab. To use a GPU, follow on the collaboratory menu tabs, \"Runtime\" => \"Change runtime type\" and set it to GPU. Then run the same training loop but now on GPU. \n",
    "\n",
    "It as easy as:"
   ]
  },
  {
   "cell_type": "code",
   "execution_count": null,
   "metadata": {},
   "outputs": [],
   "source": [
    "device = 'cuda'\n",
    "if device == 'cuda': torch.backends.cudnn.benchmark = True # additional speed up\n",
    "\n",
    "cnn = CNN()\n",
    "optimizer = optim.SGD(cnn.parameters(), lr=0.1, momentum=0.9, weight_decay=5e-4)\n",
    "scheduler = torch.optim.lr_scheduler.CosineAnnealingLR(optimizer, T_max=200)\n",
    "cnn = cnn.to(device)\n",
    "\n",
    "epochs = 10\n",
    "for epoch in range(1, epochs + 1):\n",
    "    train(cnn, dl_train, optimizer, epoch, log_interval=100, device=device)\n",
    "    test(cnn, dl_test, device=device)    \n",
    "    scheduler.step()"
   ]
  },
  {
   "cell_type": "markdown",
   "metadata": {},
   "source": [
    "This should be way faster now. But the true advantage of the GPU is that we can use much bigger models now and still train them in a reasonable amount of time. PyTorch is again very handy. The torchvision library comes with varies state-of-the-art model architectures, some of which you have seen in the lecture."
   ]
  },
  {
   "cell_type": "code",
   "execution_count": null,
   "metadata": {},
   "outputs": [],
   "source": [
    "from torchvision.models import resnet18"
   ]
  },
  {
   "cell_type": "code",
   "execution_count": null,
   "metadata": {
    "scrolled": true
   },
   "outputs": [],
   "source": [
    "cnn = resnet18()\n",
    "print(cnn)"
   ]
  },
  {
   "cell_type": "markdown",
   "metadata": {},
   "source": [
    "Looks scary! But the only thing you need to change to make it work on CIFAR is the last layer.\n",
    "Currently the last layer is:\n",
    "```\n",
    "  (fc): Linear(in_features=512, out_features=1000, bias=True)\n",
    "```\n",
    "out_features is the number of classes. This models are developed for Imagenet, a dataset with 1000 classes. So this part of the model you need to adapt. Additionally, you need to add a log-softmax layer again, as we us negative log-likelihood as the training criterion. "
   ]
  },
  {
   "cell_type": "code",
   "execution_count": null,
   "metadata": {},
   "outputs": [],
   "source": [
    "#########################################################################\n",
    "# TODO: Adapt the Resnet to work on CIFAR\n",
    "#########################################################################\n"
   ]
  },
  {
   "cell_type": "code",
   "execution_count": null,
   "metadata": {},
   "outputs": [],
   "source": [
    "# This should print 'torch.Size([16, 10])'\n",
    "cnn(torch.randn(16,3,32,32)).shape"
   ]
  },
  {
   "cell_type": "code",
   "execution_count": null,
   "metadata": {},
   "outputs": [],
   "source": [
    "device = 'cuda'\n",
    "if device == 'cuda': torch.backends.cudnn.benchmark = True # this gives us additional speed up\n",
    "\n",
    "optimizer = optim.SGD(cnn.parameters(), lr=0.1, momentum=0.9, weight_decay=5e-4)\n",
    "scheduler = torch.optim.lr_scheduler.CosineAnnealingLR(optimizer, T_max=200)\n",
    "cnn = cnn.to(device)\n",
    "\n",
    "epochs = 50\n",
    "for epoch in range(1, epochs + 1):\n",
    "    train(cnn, dl_train, optimizer, epoch, log_interval=100, device=device)\n",
    "    test(cnn, dl_test, device=device)    \n",
    "    scheduler.step()"
   ]
  },
  {
   "cell_type": "markdown",
   "metadata": {},
   "source": [
    "This should get us well above 75%, the best we got was ~ 80%.\n",
    "\n",
    "Now, use different torchvision architectures, different optimizers (Adam is always a good choice), data augmentation techniques, and hyperparameter search to achieve a test accuracy of >90 %"
   ]
  },
  {
   "cell_type": "code",
   "execution_count": null,
   "metadata": {},
   "outputs": [],
   "source": []
  }
 ],
 "metadata": {
  "kernelspec": {
   "display_name": "Python [conda env:dl4cv]",
   "language": "python",
   "name": "conda-env-dl4cv-py"
  },
  "language_info": {
   "codemirror_mode": {
    "name": "ipython",
    "version": 3
   },
   "file_extension": ".py",
   "mimetype": "text/x-python",
   "name": "python",
   "nbconvert_exporter": "python",
   "pygments_lexer": "ipython3",
   "version": "3.9.13"
  },
  "vscode": {
   "interpreter": {
    "hash": "d268b61a0efacafa8645774cb6d0204c9f01d7563ef03f7672146d044e8f345c"
   }
  }
 },
 "nbformat": 4,
 "nbformat_minor": 4
}
