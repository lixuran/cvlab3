{
 "cells": [
  {
   "cell_type": "markdown",
   "metadata": {},
   "source": [
    "# Point Cloud Binary Classification with PyTorch"
   ]
  },
  {
   "cell_type": "markdown",
   "metadata": {},
   "source": [
    "Make sure you are using the `dl4cv` conda environment."
   ]
  },
  {
   "cell_type": "markdown",
   "metadata": {},
   "source": [
    "## Dataset loading and visualization"
   ]
  },
  {
   "cell_type": "markdown",
   "metadata": {},
   "source": [
    "The input X contain 100 2D points, and y are their corresponding labels (0 or 1). The goal is to train a model that can classify every point to its correct label.\n"
   ]
  },
  {
   "cell_type": "code",
   "execution_count": 1,
   "metadata": {},
   "outputs": [
    {
     "name": "stderr",
     "output_type": "stream",
     "text": [
      "/home/lixuran/anaconda3/envs/dl4cv/lib/python3.9/site-packages/tqdm/auto.py:22: TqdmWarning: IProgress not found. Please update jupyter and ipywidgets. See https://ipywidgets.readthedocs.io/en/stable/user_install.html\n",
      "  from .autonotebook import tqdm as notebook_tqdm\n"
     ]
    },
    {
     "data": {
      "image/png": "[encoded data removed]",
      "text/plain": [
       "<Figure size 640x480 with 1 Axes>"
      ]
     },
     "metadata": {},
     "output_type": "display_data"
    },
    {
     "data": {
      "text/plain": [
       "<Figure size 640x480 with 0 Axes>"
      ]
     },
     "metadata": {},
     "output_type": "display_data"
    }
   ],
   "source": [
    "%matplotlib inline\n",
    "import matplotlib.pyplot as plt\n",
    "import numpy as np\n",
    "import torch\n",
    "import torch.nn as nn\n",
    "import torch.nn.functional as F\n",
    "import torch.optim as optim\n",
    "from torch.utils.data import Dataset\n",
    "from torch.utils.data import DataLoader\n",
    "from torch.optim import Adam\n",
    "\n",
    "dataset = np.load('data/2d_pcl_dataset.npz')\n",
    "X, y = dataset['X'], dataset['y']\n",
    "\n",
    "X0 = X[y==0] # 50 2D points have label 0\n",
    "X1 = X[y==1] # 50 2D points have label 1\n",
    "\n",
    "def plot(X0, X1, fit_param=None):\n",
    "    plt.scatter(X0[:,0], X0[:,1], color='red', label=0)\n",
    "    plt.scatter(X1[:,0], X1[:,1], color='blue', label=1)\n",
    "    \n",
    "    plt.xlim([-0.55, 0.55])\n",
    "    plt.ylim([-0.35, 0.25])\n",
    "    plt.legend()\n",
    "    plt.show()\n",
    "    plt.clf()\n",
    "\n",
    "plot(X0, X1)"
   ]
  },
  {
   "cell_type": "code",
   "execution_count": 2,
   "metadata": {},
   "outputs": [],
   "source": [
    "data = np.load(\"data/2d_pcl_dataset.npz\")"
   ]
  },
  {
   "cell_type": "code",
   "execution_count": 10,
   "metadata": {},
   "outputs": [
    {
     "name": "stdout",
     "output_type": "stream",
     "text": [
      "X\n",
      "y\n"
     ]
    }
   ],
   "source": [
    "for i in data.keys():\n",
    "    print(i)"
   ]
  },
  {
   "cell_type": "code",
   "execution_count": 15,
   "metadata": {
    "scrolled": true
   },
   "outputs": [
    {
     "data": {
      "text/plain": [
       "array([[-3.90813795e-01,  2.76949232e-02],\n",
       "       [-3.05887109e-01,  1.71369647e-01],\n",
       "       [ 2.77140744e-01, -2.79762623e-01],\n",
       "       [-6.62149535e-02, -1.80641955e-01],\n",
       "       [ 5.00000000e-01, -1.16906070e-02],\n",
       "       [ 2.80154327e-03, -2.80777154e-01],\n",
       "       [ 3.46435961e-01, -2.61035226e-01],\n",
       "       [-1.90506555e-01,  1.46604125e-01],\n",
       "       [-4.10576117e-01,  6.63117211e-02],\n",
       "       [-4.36930836e-01, -2.60761672e-02],\n",
       "       [-2.89031365e-01,  1.16671183e-01],\n",
       "       [-8.76696615e-02, -1.60702648e-01],\n",
       "       [-5.13154108e-02, -2.08607424e-01],\n",
       "       [ 4.23014464e-01, -4.27072265e-02],\n",
       "       [-1.16021018e-01, -8.62332117e-02],\n",
       "       [ 3.83876677e-01, -1.44494245e-01],\n",
       "       [ 4.41806871e-01, -3.61001602e-02],\n",
       "       [ 1.78682703e-01, -1.01560963e-01],\n",
       "       [ 6.99308048e-02, -2.91295295e-01],\n",
       "       [ 3.23367970e-01, -2.67176856e-01],\n",
       "       [ 6.85116024e-02,  1.00701322e-02],\n",
       "       [-8.82324904e-02,  4.49379448e-02],\n",
       "       [-1.74474656e-01,  1.13386227e-01],\n",
       "       [ 4.13430405e-01, -2.28146263e-01],\n",
       "       [ 1.86703691e-01, -2.96928676e-01],\n",
       "       [ 1.41139538e-01, -3.05117580e-01],\n",
       "       [-6.53379322e-02, -2.41487541e-01],\n",
       "       [ 2.86735933e-02, -1.93512280e-01],\n",
       "       [ 3.08374410e-01, -2.57699148e-01],\n",
       "       [-4.34588792e-01, -1.27838219e-01],\n",
       "       [ 1.65804320e-01, -7.67189442e-02],\n",
       "       [-3.14008380e-02, -2.16332361e-01],\n",
       "       [ 6.55828356e-02,  1.40285015e-02],\n",
       "       [ 4.15565096e-01, -8.87964935e-02],\n",
       "       [-1.44570444e-01, -1.74588233e-01],\n",
       "       [ 1.78850689e-01, -3.06307876e-01],\n",
       "       [-3.49052342e-01,  8.77783329e-02],\n",
       "       [ 1.13636832e-01, -1.45526769e-02],\n",
       "       [-1.29332969e-01, -8.19438276e-02],\n",
       "       [ 2.11366850e-01, -2.95542445e-01],\n",
       "       [-7.54472982e-02,  1.53289268e-01],\n",
       "       [ 2.10475817e-02,  9.01548144e-02],\n",
       "       [ 6.86647685e-02, -2.84968701e-01],\n",
       "       [ 3.26155521e-01, -2.30106455e-01],\n",
       "       [-4.82101036e-02,  1.64010356e-01],\n",
       "       [ 1.66990466e-01,  7.63168507e-02],\n",
       "       [-4.38313486e-01, -6.73636256e-02],\n",
       "       [ 1.37185368e-01,  1.35222615e-02],\n",
       "       [-4.70311241e-01,  2.49972111e-02],\n",
       "       [ 2.89332548e-02,  1.22884343e-01],\n",
       "       [-4.34750370e-01, -6.89911958e-02],\n",
       "       [-6.78642215e-03,  1.55811853e-01],\n",
       "       [-7.67987180e-02,  1.80888245e-01],\n",
       "       [-1.49112410e-01, -9.32867240e-02],\n",
       "       [ 2.80226682e-01, -2.83086343e-01],\n",
       "       [-2.71233495e-01,  1.55416569e-01],\n",
       "       [ 4.83769809e-01, -1.31303807e-01],\n",
       "       [ 1.78316426e-01, -4.06829484e-02],\n",
       "       [ 3.07803292e-01, -2.99762517e-01],\n",
       "       [-2.75509032e-01,  1.40218994e-01],\n",
       "       [-2.17173509e-01, -3.54226247e-02],\n",
       "       [ 6.77641275e-02,  1.08987110e-01],\n",
       "       [ 4.25313483e-01, -1.12547364e-01],\n",
       "       [-1.62666209e-03,  1.87275910e-01],\n",
       "       [-1.59905657e-01,  1.56207541e-01],\n",
       "       [-4.53123030e-01, -7.23041742e-02],\n",
       "       [-5.29335098e-02, -2.33859537e-01],\n",
       "       [ 3.46841591e-02,  9.35508382e-02],\n",
       "       [-2.01077247e-02, -2.78896282e-01],\n",
       "       [ 6.53529852e-02,  1.13579774e-01],\n",
       "       [-5.29169965e-02,  1.83367841e-01],\n",
       "       [ 1.33725579e-01, -1.47875616e-01],\n",
       "       [ 1.57439001e-01, -8.25591078e-02],\n",
       "       [ 1.73017428e-01, -1.34020036e-01],\n",
       "       [ 2.14701369e-02,  7.13746233e-02],\n",
       "       [-6.04450165e-03, -2.49413627e-01],\n",
       "       [ 4.62123178e-01,  4.89022779e-03],\n",
       "       [-3.17484887e-01,  1.19722368e-01],\n",
       "       [-3.50388139e-01,  7.52058968e-02],\n",
       "       [ 4.21298103e-01, -6.25446432e-02],\n",
       "       [-8.49404400e-02,  6.58521712e-03],\n",
       "       [ 4.31256006e-01,  4.22954547e-04],\n",
       "       [ 1.40531141e-01, -2.49636729e-01],\n",
       "       [ 2.82722546e-01, -2.35590054e-01],\n",
       "       [ 5.63204115e-02, -2.86619066e-01],\n",
       "       [-1.32116979e-01, -1.55420120e-01],\n",
       "       [ 4.28947869e-01, -1.63997680e-01],\n",
       "       [ 4.10107901e-01, -1.49590281e-01],\n",
       "       [-4.37666496e-01, -2.19153649e-03],\n",
       "       [-2.38864695e-01,  1.56149688e-01],\n",
       "       [-1.41121209e-01,  1.47629663e-01],\n",
       "       [-7.29955928e-02,  1.19079244e-01],\n",
       "       [-4.71562105e-01, -1.71778743e-01],\n",
       "       [ 8.88708221e-03,  1.30266034e-01],\n",
       "       [-1.39979865e-01,  8.84004529e-02],\n",
       "       [ 2.40909373e-01, -2.03404813e-01],\n",
       "       [-1.59395058e-01, -9.99658735e-03],\n",
       "       [-4.41230229e-01,  6.11001892e-02],\n",
       "       [ 3.28797339e-01, -2.18424059e-01],\n",
       "       [-5.00000000e-01, -1.31100939e-01]])"
      ]
     },
     "execution_count": 15,
     "metadata": {},
     "output_type": "execute_result"
    }
   ],
   "source": [
    "data[\"X\"]"
   ]
  },
  {
   "cell_type": "markdown",
   "metadata": {},
   "source": [
    "## Logistic Regression for the point cloud classification task\n"
   ]
  },
  {
   "cell_type": "markdown",
   "metadata": {},
   "source": [
    "Starting by filling in the `Simple2DDataset` class below. First, in the class constructore `__init__`, you will need to read the right `2d_pcl_dataset.npz` from disk.\n",
    "\n",
    "Second, in the `__getitem__`, you will need to take a single data point and its label based on its index `idx`"
   ]
  },
  {
   "cell_type": "code",
   "execution_count": 19,
   "metadata": {},
   "outputs": [],
   "source": [
    "class Simple2DDataset(Dataset):\n",
    "    def __init__(self):\n",
    "        super().__init__()\n",
    "        #########################################################################\n",
    "        # TODO: read data from disk using np.load.\n",
    "        # Data is located in the folder \"data\".\n",
    "        # Save samples and labels to class members self.X and self.y respectively.\n",
    "        # samples should be an Nx2 numpy array. Labels should be Nx1.\n",
    "        #########################################################################\n",
    "        data = np.load(\"data/2d_pcl_dataset.npz\")\n",
    "        self.X = data[\"X\"]\n",
    "        self.y = data[\"y\"]\n",
    "     \n",
    "    def __len__(self):\n",
    "        # Returns the number of samples in the dataset.\n",
    "        return self.X.shape[0]\n",
    "    \n",
    "    def __getitem__(self, idx):\n",
    "        #########################################################################\n",
    "        # TODO: return the sample and label with index idx\n",
    "        #########################################################################\n",
    "        point = self.X[idx,:]\n",
    "        label = self.y[idx]\n",
    "        \n",
    "        # Convert to tensor.\n",
    "        return torch.from_numpy(point).float(), \\\n",
    "               torch.from_numpy(label[np.newaxis]).float()\n"
   ]
  },
  {
   "cell_type": "markdown",
   "metadata": {},
   "source": [
    "With the complete `Simple2DDataset`, we can create a PyTorch dataloader\n",
    "\n",
    "**NOTE**: if you encounter some unexpected errors in data loading, try setting `NUM_WORKERS = 0`"
   ]
  },
  {
   "cell_type": "code",
   "execution_count": 20,
   "metadata": {},
   "outputs": [],
   "source": [
    "BATCH_SIZE = 8\n",
    "NUM_WORKERS = 4\n",
    "\n",
    "# create the dataloader\n",
    "dataset = Simple2DDataset()\n",
    "train_dataloader = DataLoader(\n",
    "    dataset,\n",
    "    batch_size=BATCH_SIZE,\n",
    "    num_workers=NUM_WORKERS,\n",
    "    shuffle=True\n",
    ")"
   ]
  },
  {
   "cell_type": "markdown",
   "metadata": {},
   "source": [
    "Now, define your first network by filling in the `LinearClassifier` class below.\n",
    "\n",
    "Add a single linear layer `nn.Linear` inside the `nn.Sequential` call. The input is 2D, and the output should be a single value, corresponding to the probability of a given 2D point being part of cluster 0."
   ]
  },
  {
   "cell_type": "code",
   "execution_count": 26,
   "metadata": {},
   "outputs": [],
   "source": [
    "class LinearClassifier(nn.Module):\n",
    "    def __init__(self):\n",
    "        super().__init__()\n",
    "\n",
    "        self.codename = 'linear'\n",
    "\n",
    "        #########################################################################\n",
    "        # TODO: add a single linear layer with nn.Linear, inside the `nn.Sequential` call.\n",
    "        # Input is 2D.\n",
    "        # Output is a single value.\n",
    "        #########################################################################\n",
    "        self.model = nn.Sequential(nn.Linear(2,1))\n",
    "        #self.model.Append(nn.Linear(2,1))\n",
    "        \n",
    "    def forward(self, batch):\n",
    "        # Process batch using the defined model.\n",
    "        x = self.model(batch)\n",
    "        # Final sigmoid activation to obtain a probability between 0 and 1.\n",
    "        return torch.sigmoid(x)"
   ]
  },
  {
   "cell_type": "markdown",
   "metadata": {},
   "source": [
    "Now, you are asked to implement the training loop below"
   ]
  },
  {
   "cell_type": "code",
   "execution_count": 22,
   "metadata": {},
   "outputs": [],
   "source": [
    "def train(net, optimizer, dataloader, epoch):\n",
    "    net.train()\n",
    "    loss_sum = 0\n",
    "    for batch_idx, (point, label) in enumerate(dataloader):\n",
    "        # First we need to zero the gradient, otherwise PyTorch would accumulate them\n",
    "        optimizer.zero_grad()\n",
    "\n",
    "        #########################################################################\n",
    "        #TODO: \n",
    "        # 1. forward pass of the network to obtain the predictions given the batch\n",
    "        # 2. compute the loss using F.binary_cross_entropy\n",
    "        # 3. backward pass on the loss using loss.backward(), and one step \n",
    "        # of gradient descent (optimization) using optimizer.step()\n",
    "        #########################################################################\n",
    "        y_pred = net(point)\n",
    "        \n",
    "        loss = F.binary_cross_entropy(y_pred,label) \n",
    "        loss.backward()\n",
    "        optimizer.step()\n",
    "        loss_sum += loss\n",
    "    return loss_sum\n",
    "        "
   ]
  },
  {
   "cell_type": "markdown",
   "metadata": {},
   "source": [
    "You can now run below to train the linear model."
   ]
  },
  {
   "cell_type": "code",
   "execution_count": 27,
   "metadata": {
    "scrolled": true,
    "tags": []
   },
   "outputs": [
    {
     "name": "stdout",
     "output_type": "stream",
     "text": [
      "[Epoch 01] Loss: 7.6924\n",
      "[Epoch 02] Loss: 6.2532\n",
      "[Epoch 03] Loss: 5.5245\n",
      "[Epoch 04] Loss: 4.9808\n",
      "[Epoch 05] Loss: 4.6052\n",
      "[Epoch 06] Loss: 4.4725\n",
      "[Epoch 07] Loss: 4.3041\n",
      "[Epoch 08] Loss: 4.1214\n",
      "[Epoch 09] Loss: 4.0172\n",
      "[Epoch 10] Loss: 3.9783\n",
      "[Epoch 11] Loss: 4.0233\n",
      "[Epoch 12] Loss: 3.8391\n",
      "[Epoch 13] Loss: 3.7575\n",
      "[Epoch 14] Loss: 3.6945\n",
      "[Epoch 15] Loss: 3.9788\n",
      "[Epoch 16] Loss: 3.6684\n",
      "[Epoch 17] Loss: 3.7988\n",
      "[Epoch 18] Loss: 3.5908\n",
      "[Epoch 19] Loss: 3.6908\n",
      "[Epoch 20] Loss: 3.5741\n",
      "[Epoch 21] Loss: 3.7464\n",
      "[Epoch 22] Loss: 3.8212\n",
      "[Epoch 23] Loss: 3.5907\n",
      "[Epoch 24] Loss: 3.5495\n",
      "[Epoch 25] Loss: 3.8975\n",
      "[Epoch 26] Loss: 3.8856\n",
      "[Epoch 27] Loss: 3.5124\n",
      "[Epoch 28] Loss: 3.6508\n",
      "[Epoch 29] Loss: 3.5603\n",
      "[Epoch 30] Loss: 3.5380\n",
      "[Epoch 31] Loss: 3.6033\n",
      "[Epoch 32] Loss: 3.5673\n",
      "[Epoch 33] Loss: 3.5181\n",
      "[Epoch 34] Loss: 3.6143\n",
      "[Epoch 35] Loss: 3.5260\n",
      "[Epoch 36] Loss: 3.6948\n",
      "[Epoch 37] Loss: 3.4893\n",
      "[Epoch 38] Loss: 3.4648\n",
      "[Epoch 39] Loss: 3.4676\n",
      "[Epoch 40] Loss: 3.6906\n",
      "[Epoch 41] Loss: 3.4820\n",
      "[Epoch 42] Loss: 3.4586\n",
      "[Epoch 43] Loss: 3.7087\n",
      "[Epoch 44] Loss: 3.4644\n",
      "[Epoch 45] Loss: 3.5156\n",
      "[Epoch 46] Loss: 3.4779\n",
      "[Epoch 47] Loss: 3.5801\n",
      "[Epoch 48] Loss: 3.4599\n",
      "[Epoch 49] Loss: 3.6337\n",
      "[Epoch 50] Loss: 3.7334\n",
      "[Epoch 51] Loss: 3.7486\n",
      "[Epoch 52] Loss: 3.5065\n",
      "[Epoch 53] Loss: 3.7277\n",
      "[Epoch 54] Loss: 3.5031\n",
      "[Epoch 55] Loss: 3.4416\n",
      "[Epoch 56] Loss: 3.5452\n",
      "[Epoch 57] Loss: 3.4220\n",
      "[Epoch 58] Loss: 3.4871\n",
      "[Epoch 59] Loss: 3.4383\n",
      "[Epoch 60] Loss: 3.6894\n",
      "[Epoch 61] Loss: 3.5408\n",
      "[Epoch 62] Loss: 3.6849\n",
      "[Epoch 63] Loss: 3.4665\n",
      "[Epoch 64] Loss: 3.5213\n",
      "[Epoch 65] Loss: 3.6358\n",
      "[Epoch 66] Loss: 3.5543\n",
      "[Epoch 67] Loss: 3.5997\n",
      "[Epoch 68] Loss: 3.4705\n",
      "[Epoch 69] Loss: 3.6495\n",
      "[Epoch 70] Loss: 3.6213\n",
      "[Epoch 71] Loss: 3.5509\n",
      "[Epoch 72] Loss: 3.4422\n",
      "[Epoch 73] Loss: 3.4453\n",
      "[Epoch 74] Loss: 3.6311\n",
      "[Epoch 75] Loss: 3.4979\n",
      "[Epoch 76] Loss: 3.4559\n",
      "[Epoch 77] Loss: 3.4809\n",
      "[Epoch 78] Loss: 3.5163\n",
      "[Epoch 79] Loss: 3.5027\n",
      "[Epoch 80] Loss: 3.4784\n",
      "[Epoch 81] Loss: 3.5051\n",
      "[Epoch 82] Loss: 3.4712\n",
      "[Epoch 83] Loss: 3.5222\n",
      "[Epoch 84] Loss: 3.7203\n",
      "[Epoch 85] Loss: 3.5020\n",
      "[Epoch 86] Loss: 3.5112\n",
      "[Epoch 87] Loss: 3.4746\n",
      "[Epoch 88] Loss: 3.6496\n",
      "[Epoch 89] Loss: 3.7890\n",
      "[Epoch 90] Loss: 3.6652\n",
      "[Epoch 91] Loss: 3.4464\n",
      "[Epoch 92] Loss: 3.4494\n",
      "[Epoch 93] Loss: 3.5515\n",
      "[Epoch 94] Loss: 3.6051\n",
      "[Epoch 95] Loss: 3.7256\n",
      "[Epoch 96] Loss: 3.4559\n",
      "[Epoch 97] Loss: 3.4356\n",
      "[Epoch 98] Loss: 3.5831\n",
      "[Epoch 99] Loss: 3.4340\n",
      "[Epoch 100] Loss: 3.5701\n"
     ]
    }
   ],
   "source": [
    "NUM_EPOCHS = 100\n",
    "# create the network.\n",
    "net = LinearClassifier()\n",
    "\n",
    "# create the optimizer.\n",
    "optimizer = Adam(net.parameters(), lr=0.1)\n",
    "\n",
    "best_accuracy = 0\n",
    "for epoch_idx in range(NUM_EPOCHS):\n",
    "    loss = train(net, optimizer, train_dataloader, epoch_idx)\n",
    "    print('[Epoch %02d] Loss: %.4f' % (epoch_idx + 1, loss))"
   ]
  },
  {
   "cell_type": "markdown",
   "metadata": {},
   "source": [
    "Now plot your result below.\n"
   ]
  },
  {
   "cell_type": "code",
   "execution_count": null,
   "metadata": {},
   "outputs": [],
   "source": []
  },
  {
   "cell_type": "code",
   "execution_count": 28,
   "metadata": {},
   "outputs": [
    {
     "data": {
      "image/png": "[encoded data removed]",
      "text/plain": [
       "<Figure size 640x480 with 1 Axes>"
      ]
     },
     "metadata": {},
     "output_type": "display_data"
    },
    {
     "data": {
      "text/plain": [
       "<Figure size 640x480 with 0 Axes>"
      ]
     },
     "metadata": {},
     "output_type": "display_data"
    }
   ],
   "source": [
    "p = np.linspace(-0.5, 0.5, 500)\n",
    "x_plot, y_plot = np.meshgrid(p, p)\n",
    "X_plot = np.stack((x_plot, y_plot), axis=2).reshape(-1, 2)\n",
    "X_plot = torch.from_numpy(X_plot).float()\n",
    "output = net(X_plot)\n",
    "output = output.detach().numpy()\n",
    "output = output.reshape(x_plot.shape[0], x_plot.shape[1])\n",
    "\n",
    "plt.contour(x_plot, y_plot, output, [0.5],\n",
    "                  colors=('k',),\n",
    "                  linewidths=(3,))\n",
    "plot(X0, X1)\n"
   ]
  },
  {
   "cell_type": "markdown",
   "metadata": {},
   "source": [
    "### Implement your first multi-layer perceptron (MLP) for point cloud classification\n",
    "Now you should notice that your logistic regression model cannot classify the point cloud correctly, and this is as expected :)  \n",
    "Therefore, we now ask you to implement an MLP for the same binary classification task."
   ]
  },
  {
   "cell_type": "code",
   "execution_count": 30,
   "metadata": {},
   "outputs": [],
   "source": [
    "# These are the parameters to be used\n",
    "nInput = 2\n",
    "nOutput = 1\n",
    "nHidden = 16\n",
    "act_fn = nn.ReLU()\n",
    "\n",
    "class MLP(nn.Module):\n",
    "    def __init__(self, nInput, nOutput, nHidden, act_fn):\n",
    "        super().__init__()\n",
    "\n",
    "        # Define the network layers in order.\n",
    "        # Input is 2D (nInput).\n",
    "        # Output is a single value (nOutput).\n",
    "        # Multiple linear layers each followed by a ReLU non-linearity (apart from the last).\n",
    "        #########################################################################\n",
    "        # TODO: add a two-layer MLP, inside the `nn.Sequential` call.\n",
    "        # Input is 2D.\n",
    "        # Output is a single value.\n",
    "\n",
    "        # Hint: unlike logistic regression where you need only one nn.Linear layer, \n",
    "        # here you will have two nn.Linear layers. After the first layer, we \n",
    "        # apply a ReLU activation function. The output is then passed to another \n",
    "        # linear layer. Note that you should use `nHidden` below as the hidden dimension \n",
    "        # of your linear layers.\n",
    "        #########################################################################\n",
    "        self.model = nn.Sequential(nn.Linear(nInput,nHidden),act_fn,nn.Linear(nHidden,nOutput))\n",
    "        \n",
    "    def forward(self, batch):\n",
    "        # Process batch using the defined model.\n",
    "        x = self.model(batch)\n",
    "        # Final sigmoid activation to obtain a probability.\n",
    "        return torch.sigmoid(x)\n"
   ]
  },
  {
   "cell_type": "markdown",
   "metadata": {},
   "source": [
    "Run below again!"
   ]
  },
  {
   "cell_type": "code",
   "execution_count": 31,
   "metadata": {},
   "outputs": [
    {
     "name": "stdout",
     "output_type": "stream",
     "text": [
      "[Epoch 01] Loss: 8.0924\n",
      "[Epoch 02] Loss: 4.3179\n",
      "[Epoch 03] Loss: 3.5321\n",
      "[Epoch 04] Loss: 3.8270\n",
      "[Epoch 05] Loss: 3.8733\n",
      "[Epoch 06] Loss: 3.4195\n",
      "[Epoch 07] Loss: 3.4489\n",
      "[Epoch 08] Loss: 3.8496\n",
      "[Epoch 09] Loss: 3.7864\n",
      "[Epoch 10] Loss: 3.4935\n",
      "[Epoch 11] Loss: 3.3792\n",
      "[Epoch 12] Loss: 3.8266\n",
      "[Epoch 13] Loss: 2.8134\n",
      "[Epoch 14] Loss: 2.6331\n",
      "[Epoch 15] Loss: 2.3550\n",
      "[Epoch 16] Loss: 1.9793\n",
      "[Epoch 17] Loss: 1.8169\n",
      "[Epoch 18] Loss: 1.7941\n",
      "[Epoch 19] Loss: 1.4963\n",
      "[Epoch 20] Loss: 1.3431\n",
      "[Epoch 21] Loss: 1.3640\n",
      "[Epoch 22] Loss: 1.3985\n",
      "[Epoch 23] Loss: 1.4801\n",
      "[Epoch 24] Loss: 1.3745\n",
      "[Epoch 25] Loss: 0.9583\n",
      "[Epoch 26] Loss: 1.2275\n",
      "[Epoch 27] Loss: 0.8241\n",
      "[Epoch 28] Loss: 0.6717\n",
      "[Epoch 29] Loss: 0.9662\n",
      "[Epoch 30] Loss: 1.0450\n",
      "[Epoch 31] Loss: 0.9885\n",
      "[Epoch 32] Loss: 0.8772\n",
      "[Epoch 33] Loss: 1.1922\n",
      "[Epoch 34] Loss: 1.9673\n",
      "[Epoch 35] Loss: 1.1066\n",
      "[Epoch 36] Loss: 1.1661\n",
      "[Epoch 37] Loss: 0.6785\n",
      "[Epoch 38] Loss: 0.8051\n",
      "[Epoch 39] Loss: 0.5734\n",
      "[Epoch 40] Loss: 0.7227\n",
      "[Epoch 41] Loss: 0.5653\n",
      "[Epoch 42] Loss: 0.4100\n",
      "[Epoch 43] Loss: 0.5513\n",
      "[Epoch 44] Loss: 0.3047\n",
      "[Epoch 45] Loss: 0.2918\n",
      "[Epoch 46] Loss: 0.3837\n",
      "[Epoch 47] Loss: 0.1990\n",
      "[Epoch 48] Loss: 0.1634\n",
      "[Epoch 49] Loss: 0.1637\n",
      "[Epoch 50] Loss: 0.1712\n",
      "[Epoch 51] Loss: 0.1385\n",
      "[Epoch 52] Loss: 0.1780\n",
      "[Epoch 53] Loss: 0.1960\n",
      "[Epoch 54] Loss: 0.1597\n",
      "[Epoch 55] Loss: 0.1641\n",
      "[Epoch 56] Loss: 0.1434\n",
      "[Epoch 57] Loss: 0.1580\n",
      "[Epoch 58] Loss: 0.2248\n",
      "[Epoch 59] Loss: 0.1004\n",
      "[Epoch 60] Loss: 0.1160\n",
      "[Epoch 61] Loss: 0.0957\n",
      "[Epoch 62] Loss: 0.0902\n",
      "[Epoch 63] Loss: 0.0826\n",
      "[Epoch 64] Loss: 0.0822\n",
      "[Epoch 65] Loss: 0.1139\n",
      "[Epoch 66] Loss: 0.0833\n",
      "[Epoch 67] Loss: 0.0803\n",
      "[Epoch 68] Loss: 0.0830\n",
      "[Epoch 69] Loss: 0.0807\n",
      "[Epoch 70] Loss: 0.0786\n",
      "[Epoch 71] Loss: 0.0704\n",
      "[Epoch 72] Loss: 0.0628\n",
      "[Epoch 73] Loss: 0.0678\n",
      "[Epoch 74] Loss: 0.0670\n",
      "[Epoch 75] Loss: 0.0623\n",
      "[Epoch 76] Loss: 0.0559\n",
      "[Epoch 77] Loss: 0.0736\n",
      "[Epoch 78] Loss: 0.0455\n",
      "[Epoch 79] Loss: 0.0618\n",
      "[Epoch 80] Loss: 0.0561\n",
      "[Epoch 81] Loss: 0.0488\n",
      "[Epoch 82] Loss: 0.0531\n",
      "[Epoch 83] Loss: 0.0491\n",
      "[Epoch 84] Loss: 0.0541\n",
      "[Epoch 85] Loss: 0.0465\n",
      "[Epoch 86] Loss: 0.0656\n",
      "[Epoch 87] Loss: 0.0526\n",
      "[Epoch 88] Loss: 0.0481\n",
      "[Epoch 89] Loss: 0.0440\n",
      "[Epoch 90] Loss: 0.0477\n",
      "[Epoch 91] Loss: 0.0684\n",
      "[Epoch 92] Loss: 0.0586\n",
      "[Epoch 93] Loss: 0.0551\n",
      "[Epoch 94] Loss: 0.0385\n",
      "[Epoch 95] Loss: 0.0451\n",
      "[Epoch 96] Loss: 0.0503\n",
      "[Epoch 97] Loss: 0.0520\n",
      "[Epoch 98] Loss: 0.0326\n",
      "[Epoch 99] Loss: 0.0380\n",
      "[Epoch 100] Loss: 0.0476\n",
      "[Epoch 101] Loss: 0.0309\n",
      "[Epoch 102] Loss: 0.0427\n",
      "[Epoch 103] Loss: 0.0304\n",
      "[Epoch 104] Loss: 0.0292\n",
      "[Epoch 105] Loss: 0.0280\n",
      "[Epoch 106] Loss: 0.0302\n",
      "[Epoch 107] Loss: 0.0317\n",
      "[Epoch 108] Loss: 0.0299\n",
      "[Epoch 109] Loss: 0.0305\n",
      "[Epoch 110] Loss: 0.0261\n",
      "[Epoch 111] Loss: 0.0287\n",
      "[Epoch 112] Loss: 0.0265\n",
      "[Epoch 113] Loss: 0.0247\n",
      "[Epoch 114] Loss: 0.0239\n",
      "[Epoch 115] Loss: 0.0227\n",
      "[Epoch 116] Loss: 0.0227\n",
      "[Epoch 117] Loss: 0.0245\n",
      "[Epoch 118] Loss: 0.0216\n",
      "[Epoch 119] Loss: 0.0209\n",
      "[Epoch 120] Loss: 0.0201\n",
      "[Epoch 121] Loss: 0.0220\n",
      "[Epoch 122] Loss: 0.0235\n",
      "[Epoch 123] Loss: 0.0195\n",
      "[Epoch 124] Loss: 0.0196\n",
      "[Epoch 125] Loss: 0.0206\n",
      "[Epoch 126] Loss: 0.0195\n",
      "[Epoch 127] Loss: 0.0185\n",
      "[Epoch 128] Loss: 0.0206\n",
      "[Epoch 129] Loss: 0.0225\n",
      "[Epoch 130] Loss: 0.0166\n",
      "[Epoch 131] Loss: 0.0218\n",
      "[Epoch 132] Loss: 0.0190\n",
      "[Epoch 133] Loss: 0.0186\n",
      "[Epoch 134] Loss: 0.0182\n",
      "[Epoch 135] Loss: 0.0183\n",
      "[Epoch 136] Loss: 0.0174\n",
      "[Epoch 137] Loss: 0.0168\n",
      "[Epoch 138] Loss: 0.0151\n",
      "[Epoch 139] Loss: 0.0153\n",
      "[Epoch 140] Loss: 0.0152\n",
      "[Epoch 141] Loss: 0.0153\n",
      "[Epoch 142] Loss: 0.0140\n",
      "[Epoch 143] Loss: 0.0143\n",
      "[Epoch 144] Loss: 0.0147\n",
      "[Epoch 145] Loss: 0.0138\n",
      "[Epoch 146] Loss: 0.0154\n",
      "[Epoch 147] Loss: 0.0145\n",
      "[Epoch 148] Loss: 0.0134\n",
      "[Epoch 149] Loss: 0.0140\n",
      "[Epoch 150] Loss: 0.0131\n",
      "[Epoch 151] Loss: 0.0137\n",
      "[Epoch 152] Loss: 0.0151\n",
      "[Epoch 153] Loss: 0.0152\n",
      "[Epoch 154] Loss: 0.0140\n",
      "[Epoch 155] Loss: 0.0166\n",
      "[Epoch 156] Loss: 0.0115\n",
      "[Epoch 157] Loss: 0.0144\n",
      "[Epoch 158] Loss: 0.0115\n",
      "[Epoch 159] Loss: 0.0114\n",
      "[Epoch 160] Loss: 0.0112\n",
      "[Epoch 161] Loss: 0.0107\n",
      "[Epoch 162] Loss: 0.0110\n",
      "[Epoch 163] Loss: 0.0113\n",
      "[Epoch 164] Loss: 0.0104\n",
      "[Epoch 165] Loss: 0.0109\n",
      "[Epoch 166] Loss: 0.0104\n",
      "[Epoch 167] Loss: 0.0099\n",
      "[Epoch 168] Loss: 0.0108\n",
      "[Epoch 169] Loss: 0.0095\n",
      "[Epoch 170] Loss: 0.0099\n",
      "[Epoch 171] Loss: 0.0108\n",
      "[Epoch 172] Loss: 0.0117\n",
      "[Epoch 173] Loss: 0.0107\n",
      "[Epoch 174] Loss: 0.0093\n",
      "[Epoch 175] Loss: 0.0100\n",
      "[Epoch 176] Loss: 0.0093\n",
      "[Epoch 177] Loss: 0.0108\n",
      "[Epoch 178] Loss: 0.0092\n",
      "[Epoch 179] Loss: 0.0091\n",
      "[Epoch 180] Loss: 0.0085\n",
      "[Epoch 181] Loss: 0.0090\n",
      "[Epoch 182] Loss: 0.0086\n",
      "[Epoch 183] Loss: 0.0087\n",
      "[Epoch 184] Loss: 0.0100\n",
      "[Epoch 185] Loss: 0.0088\n",
      "[Epoch 186] Loss: 0.0097\n",
      "[Epoch 187] Loss: 0.0074\n",
      "[Epoch 188] Loss: 0.0104\n",
      "[Epoch 189] Loss: 0.0117\n",
      "[Epoch 190] Loss: 0.0084\n",
      "[Epoch 191] Loss: 0.0110\n",
      "[Epoch 192] Loss: 0.0072\n",
      "[Epoch 193] Loss: 0.0087\n",
      "[Epoch 194] Loss: 0.0070\n",
      "[Epoch 195] Loss: 0.0089\n",
      "[Epoch 196] Loss: 0.0072\n",
      "[Epoch 197] Loss: 0.0069\n",
      "[Epoch 198] Loss: 0.0068\n",
      "[Epoch 199] Loss: 0.0066\n",
      "[Epoch 200] Loss: 0.0083\n"
     ]
    }
   ],
   "source": [
    "NUM_EPOCHS = 200\n",
    "\n",
    "# create the network.\n",
    "net = MLP(nInput, nOutput, nHidden, act_fn)\n",
    "\n",
    "# create the optimizer.\n",
    "optimizer = Adam(net.parameters(), lr=0.1)\n",
    "\n",
    "best_accuracy = 0\n",
    "for epoch_idx in range(NUM_EPOCHS):\n",
    "    loss = train(net, optimizer, train_dataloader, epoch_idx)\n",
    "    print('[Epoch %02d] Loss: %.4f' % (epoch_idx + 1, loss))"
   ]
  },
  {
   "cell_type": "markdown",
   "metadata": {},
   "source": [
    "Again plot your result. You should see that the decision boundary can clearly separate the point clouds.\n"
   ]
  },
  {
   "cell_type": "code",
   "execution_count": 32,
   "metadata": {},
   "outputs": [
    {
     "data": {
      "image/png": "[encoded data removed]",
      "text/plain": [
       "<Figure size 640x480 with 1 Axes>"
      ]
     },
     "metadata": {},
     "output_type": "display_data"
    },
    {
     "data": {
      "text/plain": [
       "<Figure size 640x480 with 0 Axes>"
      ]
     },
     "metadata": {},
     "output_type": "display_data"
    }
   ],
   "source": [
    "p = np.linspace(-0.5, 0.5, 500)\n",
    "x_plot, y_plot = np.meshgrid(p, p)\n",
    "X_plot = np.stack((x_plot, y_plot), axis=2).reshape(-1, 2)\n",
    "X_plot = torch.from_numpy(X_plot).float()\n",
    "output = net(X_plot)\n",
    "output = output.detach().numpy()\n",
    "output = output.reshape(x_plot.shape[0], x_plot.shape[1])\n",
    "\n",
    "plt.contour(x_plot, y_plot, output, [0.5],\n",
    "                  colors=('k',),\n",
    "                  linewidths=(3,))\n",
    "plot(X0, X1)"
   ]
  },
  {
   "cell_type": "markdown",
   "metadata": {},
   "source": [
    "When you are done, move forward to `image_classification.ipynb`."
   ]
  },
  {
   "cell_type": "markdown",
   "metadata": {},
   "source": []
  }
 ],
 "metadata": {
  "kernelspec": {
   "display_name": "Python [conda env:dl4cv]",
   "language": "python",
   "name": "conda-env-dl4cv-py"
  },
  "language_info": {
   "codemirror_mode": {
    "name": "ipython",
    "version": 3
   },
   "file_extension": ".py",
   "mimetype": "text/x-python",
   "name": "python",
   "nbconvert_exporter": "python",
   "pygments_lexer": "ipython3",
   "version": "3.9.13"
  },
  "vscode": {
   "interpreter": {
    "hash": "d268b61a0efacafa8645774cb6d0204c9f01d7563ef03f7672146d044e8f345c"
   }
  }
 },
 "nbformat": 4,
 "nbformat_minor": 4
}
